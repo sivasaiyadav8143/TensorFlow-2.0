{
  "nbformat": 4,
  "nbformat_minor": 0,
  "metadata": {
    "colab": {
      "name": "Develop A Single Neuron Model to Convert C to F.ipynb",
      "provenance": [],
      "collapsed_sections": [],
      "include_colab_link": true
    },
    "kernelspec": {
      "name": "python3",
      "display_name": "Python 3"
    },
    "accelerator": "GPU"
  },
  "cells": [
    {
      "cell_type": "markdown",
      "metadata": {
        "id": "view-in-github",
        "colab_type": "text"
      },
      "source": [
        "<a href=\"https://colab.research.google.com/github/sivasaiyadav8143/TensorFlow-2.x/blob/main/Develop_A_Single_Neuron_Model_to_Convert_C_to_F.ipynb\" target=\"_parent\"><img src=\"https://colab.research.google.com/assets/colab-badge.svg\" alt=\"Open In Colab\"/></a>"
      ]
    },
    {
      "cell_type": "markdown",
      "metadata": {
        "id": "M27qF7CTrBqc"
      },
      "source": [
        "# PROBLEM STATEMENT"
      ]
    },
    {
      "cell_type": "markdown",
      "metadata": {
        "id": "iCj2rwwHBB1I"
      },
      "source": [
        "\n",
        "- In this project, we will build a simple machine learning model to convert from celsius to fahrenheit. \n",
        "- The equation is as follows: **T(°F) = T(°C) × 9/5 + 32**\n",
        "- For Example, let's convert 0°C celsius temperature to Fahrenheit:  **(0°C × 9/5) + 32 = 32°F**\n"
      ]
    },
    {
      "cell_type": "markdown",
      "metadata": {
        "id": "Z2ZMlH-gtOxf"
      },
      "source": [
        "\n",
        "<table>\n",
        "  <tr><td>\n",
        "    <img src=\"https://upload.wikimedia.org/wikipedia/commons/7/70/Thermometer_CF.svg\"\n",
        "         alt=\"Fashion MNIST sprite\"  width=\"600\">\n",
        "  </td></tr>\n",
        "  <tr><td align=\"center\">\n",
        "    <b>Figure 1. Convert Celsius to Fahrenheit [Image Source: https://commons.wikimedia.org/wiki/File:Thermometer_CF.svg]\n",
        "  </td></tr>\n",
        "</table>\n"
      ]
    },
    {
      "cell_type": "markdown",
      "metadata": {
        "id": "zKmFmyaGunc7"
      },
      "source": [
        "# STEP #0: IMPORT LIBRARIES"
      ]
    },
    {
      "cell_type": "code",
      "metadata": {
        "id": "S0Cx3743urFY"
      },
      "source": [
        "# !pip install tensorflow-gpu==2.0.0.alpha0\n",
        "import tensorflow as tf\n",
        "import pandas as pd\n",
        "import numpy as np\n",
        "import seaborn as sns\n",
        "import matplotlib.pyplot as plt"
      ],
      "execution_count": null,
      "outputs": []
    },
    {
      "cell_type": "markdown",
      "metadata": {
        "id": "uAE6Icc0uylP"
      },
      "source": [
        "# STEP #1: IMPORT DATASETS"
      ]
    },
    {
      "cell_type": "code",
      "metadata": {
        "id": "5P_ciLXawMZg",
        "colab": {
          "base_uri": "https://localhost:8080/"
        },
        "outputId": "1a6f12da-0f22-4669-8862-a90352d2a04b"
      },
      "source": [
        "# You will need to mount your drive using the following commands:\n",
        "# For more information regarding mounting, please check this out: https://stackoverflow.com/questions/46986398/import-data-into-google-colaboratory\n",
        "\n",
        "from google.colab import drive\n",
        "drive.mount('/content/drive')"
      ],
      "execution_count": null,
      "outputs": [
        {
          "output_type": "stream",
          "text": [
            "Mounted at /content/drive\n"
          ],
          "name": "stdout"
        }
      ]
    },
    {
      "cell_type": "code",
      "metadata": {
        "id": "tjIiJdM4u1IE"
      },
      "source": [
        "# You have to include the full link to the csv file containing your dataset\n",
        "Temperature_df = pd.read_csv('/content/drive/MyDrive/Data/Celsius+to+Fahrenheit.csv')\n",
        "Temperature_df.reset_index(drop=True, inplace=True)\n",
        "\n"
      ],
      "execution_count": null,
      "outputs": []
    },
    {
      "cell_type": "code",
      "metadata": {
        "id": "q4_wPDKCu5Uc"
      },
      "source": [
        "# Temperature_df"
      ],
      "execution_count": null,
      "outputs": []
    },
    {
      "cell_type": "code",
      "metadata": {
        "id": "E7puy9-xxS4A",
        "colab": {
          "base_uri": "https://localhost:8080/",
          "height": 204
        },
        "outputId": "e5e29690-d061-43fe-a16f-c597bb56f57e"
      },
      "source": [
        "Temperature_df.head(5)"
      ],
      "execution_count": null,
      "outputs": [
        {
          "output_type": "execute_result",
          "data": {
            "text/html": [
              "<div>\n",
              "<style scoped>\n",
              "    .dataframe tbody tr th:only-of-type {\n",
              "        vertical-align: middle;\n",
              "    }\n",
              "\n",
              "    .dataframe tbody tr th {\n",
              "        vertical-align: top;\n",
              "    }\n",
              "\n",
              "    .dataframe thead th {\n",
              "        text-align: right;\n",
              "    }\n",
              "</style>\n",
              "<table border=\"1\" class=\"dataframe\">\n",
              "  <thead>\n",
              "    <tr style=\"text-align: right;\">\n",
              "      <th></th>\n",
              "      <th>Celsius</th>\n",
              "      <th>Fahrenheit</th>\n",
              "    </tr>\n",
              "  </thead>\n",
              "  <tbody>\n",
              "    <tr>\n",
              "      <th>0</th>\n",
              "      <td>-50</td>\n",
              "      <td>-58.0</td>\n",
              "    </tr>\n",
              "    <tr>\n",
              "      <th>1</th>\n",
              "      <td>-40</td>\n",
              "      <td>-40.0</td>\n",
              "    </tr>\n",
              "    <tr>\n",
              "      <th>2</th>\n",
              "      <td>-30</td>\n",
              "      <td>-22.0</td>\n",
              "    </tr>\n",
              "    <tr>\n",
              "      <th>3</th>\n",
              "      <td>-20</td>\n",
              "      <td>-4.0</td>\n",
              "    </tr>\n",
              "    <tr>\n",
              "      <th>4</th>\n",
              "      <td>-10</td>\n",
              "      <td>14.0</td>\n",
              "    </tr>\n",
              "  </tbody>\n",
              "</table>\n",
              "</div>"
            ],
            "text/plain": [
              "   Celsius  Fahrenheit\n",
              "0      -50       -58.0\n",
              "1      -40       -40.0\n",
              "2      -30       -22.0\n",
              "3      -20        -4.0\n",
              "4      -10        14.0"
            ]
          },
          "metadata": {
            "tags": []
          },
          "execution_count": 6
        }
      ]
    },
    {
      "cell_type": "code",
      "metadata": {
        "id": "RUt2ON_UxyYk",
        "colab": {
          "base_uri": "https://localhost:8080/",
          "height": 204
        },
        "outputId": "6b3c4d36-8ae4-4b16-9d0f-032c307cae6a"
      },
      "source": [
        "Temperature_df.tail(5)"
      ],
      "execution_count": null,
      "outputs": [
        {
          "output_type": "execute_result",
          "data": {
            "text/html": [
              "<div>\n",
              "<style scoped>\n",
              "    .dataframe tbody tr th:only-of-type {\n",
              "        vertical-align: middle;\n",
              "    }\n",
              "\n",
              "    .dataframe tbody tr th {\n",
              "        vertical-align: top;\n",
              "    }\n",
              "\n",
              "    .dataframe thead th {\n",
              "        text-align: right;\n",
              "    }\n",
              "</style>\n",
              "<table border=\"1\" class=\"dataframe\">\n",
              "  <thead>\n",
              "    <tr style=\"text-align: right;\">\n",
              "      <th></th>\n",
              "      <th>Celsius</th>\n",
              "      <th>Fahrenheit</th>\n",
              "    </tr>\n",
              "  </thead>\n",
              "  <tbody>\n",
              "    <tr>\n",
              "      <th>25</th>\n",
              "      <td>20</td>\n",
              "      <td>68.0</td>\n",
              "    </tr>\n",
              "    <tr>\n",
              "      <th>26</th>\n",
              "      <td>30</td>\n",
              "      <td>86.0</td>\n",
              "    </tr>\n",
              "    <tr>\n",
              "      <th>27</th>\n",
              "      <td>40</td>\n",
              "      <td>104.0</td>\n",
              "    </tr>\n",
              "    <tr>\n",
              "      <th>28</th>\n",
              "      <td>50</td>\n",
              "      <td>122.0</td>\n",
              "    </tr>\n",
              "    <tr>\n",
              "      <th>29</th>\n",
              "      <td>60</td>\n",
              "      <td>140.0</td>\n",
              "    </tr>\n",
              "  </tbody>\n",
              "</table>\n",
              "</div>"
            ],
            "text/plain": [
              "    Celsius  Fahrenheit\n",
              "25       20        68.0\n",
              "26       30        86.0\n",
              "27       40       104.0\n",
              "28       50       122.0\n",
              "29       60       140.0"
            ]
          },
          "metadata": {
            "tags": []
          },
          "execution_count": 8
        }
      ]
    },
    {
      "cell_type": "code",
      "metadata": {
        "id": "hMq3-KWOx0e1",
        "colab": {
          "base_uri": "https://localhost:8080/"
        },
        "outputId": "6102c362-784a-43f6-95dc-d435e4843bf5"
      },
      "source": [
        "Temperature_df.info()"
      ],
      "execution_count": null,
      "outputs": [
        {
          "output_type": "stream",
          "text": [
            "<class 'pandas.core.frame.DataFrame'>\n",
            "RangeIndex: 30 entries, 0 to 29\n",
            "Data columns (total 2 columns):\n",
            " #   Column      Non-Null Count  Dtype  \n",
            "---  ------      --------------  -----  \n",
            " 0   Celsius     30 non-null     int64  \n",
            " 1   Fahrenheit  30 non-null     float64\n",
            "dtypes: float64(1), int64(1)\n",
            "memory usage: 608.0 bytes\n"
          ],
          "name": "stdout"
        }
      ]
    },
    {
      "cell_type": "code",
      "metadata": {
        "id": "s0E9xPLdx2Ok",
        "colab": {
          "base_uri": "https://localhost:8080/",
          "height": 297
        },
        "outputId": "271e53e5-5641-4b65-a42c-60f00036eb31"
      },
      "source": [
        "Temperature_df.describe()"
      ],
      "execution_count": null,
      "outputs": [
        {
          "output_type": "execute_result",
          "data": {
            "text/html": [
              "<div>\n",
              "<style scoped>\n",
              "    .dataframe tbody tr th:only-of-type {\n",
              "        vertical-align: middle;\n",
              "    }\n",
              "\n",
              "    .dataframe tbody tr th {\n",
              "        vertical-align: top;\n",
              "    }\n",
              "\n",
              "    .dataframe thead th {\n",
              "        text-align: right;\n",
              "    }\n",
              "</style>\n",
              "<table border=\"1\" class=\"dataframe\">\n",
              "  <thead>\n",
              "    <tr style=\"text-align: right;\">\n",
              "      <th></th>\n",
              "      <th>Celsius</th>\n",
              "      <th>Fahrenheit</th>\n",
              "    </tr>\n",
              "  </thead>\n",
              "  <tbody>\n",
              "    <tr>\n",
              "      <th>count</th>\n",
              "      <td>30.000000</td>\n",
              "      <td>30.000000</td>\n",
              "    </tr>\n",
              "    <tr>\n",
              "      <th>mean</th>\n",
              "      <td>2.000000</td>\n",
              "      <td>35.600000</td>\n",
              "    </tr>\n",
              "    <tr>\n",
              "      <th>std</th>\n",
              "      <td>22.780815</td>\n",
              "      <td>41.005466</td>\n",
              "    </tr>\n",
              "    <tr>\n",
              "      <th>min</th>\n",
              "      <td>-50.000000</td>\n",
              "      <td>-58.000000</td>\n",
              "    </tr>\n",
              "    <tr>\n",
              "      <th>25%</th>\n",
              "      <td>-6.750000</td>\n",
              "      <td>19.850000</td>\n",
              "    </tr>\n",
              "    <tr>\n",
              "      <th>50%</th>\n",
              "      <td>0.500000</td>\n",
              "      <td>32.900000</td>\n",
              "    </tr>\n",
              "    <tr>\n",
              "      <th>75%</th>\n",
              "      <td>7.750000</td>\n",
              "      <td>45.950000</td>\n",
              "    </tr>\n",
              "    <tr>\n",
              "      <th>max</th>\n",
              "      <td>60.000000</td>\n",
              "      <td>140.000000</td>\n",
              "    </tr>\n",
              "  </tbody>\n",
              "</table>\n",
              "</div>"
            ],
            "text/plain": [
              "         Celsius  Fahrenheit\n",
              "count  30.000000   30.000000\n",
              "mean    2.000000   35.600000\n",
              "std    22.780815   41.005466\n",
              "min   -50.000000  -58.000000\n",
              "25%    -6.750000   19.850000\n",
              "50%     0.500000   32.900000\n",
              "75%     7.750000   45.950000\n",
              "max    60.000000  140.000000"
            ]
          },
          "metadata": {
            "tags": []
          },
          "execution_count": 11
        }
      ]
    },
    {
      "cell_type": "markdown",
      "metadata": {
        "id": "LlszUhNNyrl_"
      },
      "source": [
        "# STEP #2: VISUALIZE DATASET"
      ]
    },
    {
      "cell_type": "code",
      "metadata": {
        "id": "TYcWopZVyvAs",
        "colab": {
          "base_uri": "https://localhost:8080/",
          "height": 350
        },
        "outputId": "b8698bc6-559a-42d7-93ad-06d90f0a5af6"
      },
      "source": [
        "sns.scatterplot(Temperature_df['Celsius'], Temperature_df['Fahrenheit'])"
      ],
      "execution_count": null,
      "outputs": [
        {
          "output_type": "stream",
          "text": [
            "/usr/local/lib/python3.6/dist-packages/seaborn/_decorators.py:43: FutureWarning: Pass the following variables as keyword args: x, y. From version 0.12, the only valid positional argument will be `data`, and passing other arguments without an explicit keyword will result in an error or misinterpretation.\n",
            "  FutureWarning\n"
          ],
          "name": "stderr"
        },
        {
          "output_type": "execute_result",
          "data": {
            "text/plain": [
              "<matplotlib.axes._subplots.AxesSubplot at 0x7f28f83095c0>"
            ]
          },
          "metadata": {
            "tags": []
          },
          "execution_count": 12
        },
        {
          "output_type": "display_data",
          "data": {
            "image/png": "[encoded data removed]",
            "text/plain": [
              "<Figure size 432x288 with 1 Axes>"
            ]
          },
          "metadata": {
            "tags": [],
            "needs_background": "light"
          }
        }
      ]
    },
    {
      "cell_type": "markdown",
      "metadata": {
        "id": "Y0GmpAjG3GiH"
      },
      "source": [
        "# STEP #3: CREATE TESTING AND TRAINING DATASET"
      ]
    },
    {
      "cell_type": "code",
      "metadata": {
        "id": "0-maV8hb9rYM"
      },
      "source": [
        "X_train = Temperature_df['Celsius']\n",
        "y_train = Temperature_df['Fahrenheit']\n"
      ],
      "execution_count": null,
      "outputs": []
    },
    {
      "cell_type": "markdown",
      "metadata": {
        "id": "53qDZFRn3-S1"
      },
      "source": [
        "# STEP#4: BUILD AND TRAIN THE MODEL"
      ]
    },
    {
      "cell_type": "code",
      "metadata": {
        "id": "DqIp8uvJ3cGi",
        "colab": {
          "base_uri": "https://localhost:8080/"
        },
        "outputId": "2c136d71-c1d1-43e2-fdb7-29833cb9142e"
      },
      "source": [
        "X_train.shape"
      ],
      "execution_count": null,
      "outputs": [
        {
          "output_type": "execute_result",
          "data": {
            "text/plain": [
              "(30,)"
            ]
          },
          "metadata": {
            "tags": []
          },
          "execution_count": 14
        }
      ]
    },
    {
      "cell_type": "code",
      "metadata": {
        "id": "d4wfApza3cEc",
        "colab": {
          "base_uri": "https://localhost:8080/"
        },
        "outputId": "b3a90277-bb8e-490f-b44f-91781dd337d2"
      },
      "source": [
        "y_train.shape"
      ],
      "execution_count": null,
      "outputs": [
        {
          "output_type": "execute_result",
          "data": {
            "text/plain": [
              "(30,)"
            ]
          },
          "metadata": {
            "tags": []
          },
          "execution_count": 15
        }
      ]
    },
    {
      "cell_type": "code",
      "metadata": {
        "id": "Yl6fmPJj3cCX"
      },
      "source": [
        "model = tf.keras.Sequential()\n",
        "model.add(tf.keras.layers.Dense(units=1, input_shape=[1]))\n",
        "\n"
      ],
      "execution_count": null,
      "outputs": []
    },
    {
      "cell_type": "code",
      "metadata": {
        "id": "GUd71odB4v-i",
        "colab": {
          "base_uri": "https://localhost:8080/"
        },
        "outputId": "ca285b68-9c36-44ef-c6fe-c309f21d18f3"
      },
      "source": [
        "model.summary()"
      ],
      "execution_count": null,
      "outputs": [
        {
          "output_type": "stream",
          "text": [
            "Model: \"sequential_1\"\n",
            "_________________________________________________________________\n",
            "Layer (type)                 Output Shape              Param #   \n",
            "=================================================================\n",
            "dense_1 (Dense)              (None, 1)                 2         \n",
            "=================================================================\n",
            "Total params: 2\n",
            "Trainable params: 2\n",
            "Non-trainable params: 0\n",
            "_________________________________________________________________\n"
          ],
          "name": "stdout"
        }
      ]
    },
    {
      "cell_type": "code",
      "metadata": {
        "id": "BYmvNpNw5Act"
      },
      "source": [
        "model.compile(optimizer=tf.keras.optimizers.Adam(0.5), loss='mean_squared_error')"
      ],
      "execution_count": null,
      "outputs": []
    },
    {
      "cell_type": "code",
      "metadata": {
        "id": "tpia0VBS5Ljw",
        "colab": {
          "base_uri": "https://localhost:8080/"
        },
        "outputId": "164fc96f-a419-49c0-d195-a4cd8283f4ac"
      },
      "source": [
        "epochs_hist = model.fit(X_train, y_train, epochs = 150)"
      ],
      "execution_count": null,
      "outputs": [
        {
          "output_type": "stream",
          "text": [
            "Epoch 1/150\n",
            "1/1 [==============================] - 0s 1ms/step - loss: 3522.9724\n",
            "Epoch 2/150\n",
            "1/1 [==============================] - 0s 979us/step - loss: 2488.4709\n",
            "Epoch 3/150\n",
            "1/1 [==============================] - 0s 2ms/step - loss: 1718.3938\n",
            "Epoch 4/150\n",
            "1/1 [==============================] - 0s 1ms/step - loss: 1208.2784\n",
            "Epoch 5/150\n",
            "1/1 [==============================] - 0s 2ms/step - loss: 938.9113\n",
            "Epoch 6/150\n",
            "1/1 [==============================] - 0s 4ms/step - loss: 869.5671\n",
            "Epoch 7/150\n",
            "1/1 [==============================] - 0s 1ms/step - loss: 935.7404\n",
            "Epoch 8/150\n",
            "1/1 [==============================] - 0s 1ms/step - loss: 1058.8632\n",
            "Epoch 9/150\n",
            "1/1 [==============================] - 0s 3ms/step - loss: 1167.8507\n",
            "Epoch 10/150\n",
            "1/1 [==============================] - 0s 2ms/step - loss: 1218.5707\n",
            "Epoch 11/150\n",
            "1/1 [==============================] - 0s 2ms/step - loss: 1198.3367\n",
            "Epoch 12/150\n",
            "1/1 [==============================] - 0s 2ms/step - loss: 1117.7336\n",
            "Epoch 13/150\n",
            "1/1 [==============================] - 0s 2ms/step - loss: 999.2313\n",
            "Epoch 14/150\n",
            "1/1 [==============================] - 0s 2ms/step - loss: 868.1638\n",
            "Epoch 15/150\n",
            "1/1 [==============================] - 0s 3ms/step - loss: 746.9421\n",
            "Epoch 16/150\n",
            "1/1 [==============================] - 0s 2ms/step - loss: 651.6781\n",
            "Epoch 17/150\n",
            "1/1 [==============================] - 0s 2ms/step - loss: 590.4745\n",
            "Epoch 18/150\n",
            "1/1 [==============================] - 0s 2ms/step - loss: 563.1224\n",
            "Epoch 19/150\n",
            "1/1 [==============================] - 0s 2ms/step - loss: 562.2507\n",
            "Epoch 20/150\n",
            "1/1 [==============================] - 0s 2ms/step - loss: 575.8741\n",
            "Epoch 21/150\n",
            "1/1 [==============================] - 0s 2ms/step - loss: 590.8486\n",
            "Epoch 22/150\n",
            "1/1 [==============================] - 0s 2ms/step - loss: 596.2745\n",
            "Epoch 23/150\n",
            "1/1 [==============================] - 0s 1ms/step - loss: 585.8397\n",
            "Epoch 24/150\n",
            "1/1 [==============================] - 0s 892us/step - loss: 558.5552\n",
            "Epoch 25/150\n",
            "1/1 [==============================] - 0s 2ms/step - loss: 517.9954\n",
            "Epoch 26/150\n",
            "1/1 [==============================] - 0s 1ms/step - loss: 470.5812\n",
            "Epoch 27/150\n",
            "1/1 [==============================] - 0s 1ms/step - loss: 423.5422\n",
            "Epoch 28/150\n",
            "1/1 [==============================] - 0s 2ms/step - loss: 383.0656\n",
            "Epoch 29/150\n",
            "1/1 [==============================] - 0s 1ms/step - loss: 352.9779\n",
            "Epoch 30/150\n",
            "1/1 [==============================] - 0s 2ms/step - loss: 334.1508\n",
            "Epoch 31/150\n",
            "1/1 [==============================] - 0s 2ms/step - loss: 324.6844\n",
            "Epoch 32/150\n",
            "1/1 [==============================] - 0s 2ms/step - loss: 320.7637\n",
            "Epoch 33/150\n",
            "1/1 [==============================] - 0s 2ms/step - loss: 317.9154\n",
            "Epoch 34/150\n",
            "1/1 [==============================] - 0s 3ms/step - loss: 312.2896\n",
            "Epoch 35/150\n",
            "1/1 [==============================] - 0s 1ms/step - loss: 301.5995\n",
            "Epoch 36/150\n",
            "1/1 [==============================] - 0s 6ms/step - loss: 285.4940\n",
            "Epoch 37/150\n",
            "1/1 [==============================] - 0s 4ms/step - loss: 265.3420\n",
            "Epoch 38/150\n",
            "1/1 [==============================] - 0s 1ms/step - loss: 243.5789\n",
            "Epoch 39/150\n",
            "1/1 [==============================] - 0s 1ms/step - loss: 222.8645\n",
            "Epoch 40/150\n",
            "1/1 [==============================] - 0s 1ms/step - loss: 205.3055\n",
            "Epoch 41/150\n",
            "1/1 [==============================] - 0s 2ms/step - loss: 191.9426\n",
            "Epoch 42/150\n",
            "1/1 [==============================] - 0s 3ms/step - loss: 182.6069\n",
            "Epoch 43/150\n",
            "1/1 [==============================] - 0s 1ms/step - loss: 176.1395\n",
            "Epoch 44/150\n",
            "1/1 [==============================] - 0s 2ms/step - loss: 170.8717\n",
            "Epoch 45/150\n",
            "1/1 [==============================] - 0s 1ms/step - loss: 165.1905\n",
            "Epoch 46/150\n",
            "1/1 [==============================] - 0s 2ms/step - loss: 158.0091\n",
            "Epoch 47/150\n",
            "1/1 [==============================] - 0s 3ms/step - loss: 149.0099\n",
            "Epoch 48/150\n",
            "1/1 [==============================] - 0s 1ms/step - loss: 138.6168\n",
            "Epoch 49/150\n",
            "1/1 [==============================] - 0s 2ms/step - loss: 127.7441\n",
            "Epoch 50/150\n",
            "1/1 [==============================] - 0s 3ms/step - loss: 117.4322\n",
            "Epoch 51/150\n",
            "1/1 [==============================] - 0s 4ms/step - loss: 108.4974\n",
            "Epoch 52/150\n",
            "1/1 [==============================] - 0s 3ms/step - loss: 101.3052\n",
            "Epoch 53/150\n",
            "1/1 [==============================] - 0s 3ms/step - loss: 95.7177\n",
            "Epoch 54/150\n",
            "1/1 [==============================] - 0s 3ms/step - loss: 91.2122\n",
            "Epoch 55/150\n",
            "1/1 [==============================] - 0s 1ms/step - loss: 87.1055\n",
            "Epoch 56/150\n",
            "1/1 [==============================] - 0s 2ms/step - loss: 82.7998\n",
            "Epoch 57/150\n",
            "1/1 [==============================] - 0s 2ms/step - loss: 77.9630\n",
            "Epoch 58/150\n",
            "1/1 [==============================] - 0s 4ms/step - loss: 72.5933\n",
            "Epoch 59/150\n",
            "1/1 [==============================] - 0s 3ms/step - loss: 66.9636\n",
            "Epoch 60/150\n",
            "1/1 [==============================] - 0s 4ms/step - loss: 61.4806\n",
            "Epoch 61/150\n",
            "1/1 [==============================] - 0s 5ms/step - loss: 56.5206\n",
            "Epoch 62/150\n",
            "1/1 [==============================] - 0s 1ms/step - loss: 52.3007\n",
            "Epoch 63/150\n",
            "1/1 [==============================] - 0s 3ms/step - loss: 48.8250\n",
            "Epoch 64/150\n",
            "1/1 [==============================] - 0s 2ms/step - loss: 45.9133\n",
            "Epoch 65/150\n",
            "1/1 [==============================] - 0s 2ms/step - loss: 43.2909\n",
            "Epoch 66/150\n",
            "1/1 [==============================] - 0s 1ms/step - loss: 40.6983\n",
            "Epoch 67/150\n",
            "1/1 [==============================] - 0s 2ms/step - loss: 37.9782\n",
            "Epoch 68/150\n",
            "1/1 [==============================] - 0s 2ms/step - loss: 35.1132\n",
            "Epoch 69/150\n",
            "1/1 [==============================] - 0s 3ms/step - loss: 32.2053\n",
            "Epoch 70/150\n",
            "1/1 [==============================] - 0s 2ms/step - loss: 29.4165\n",
            "Epoch 71/150\n",
            "1/1 [==============================] - 0s 2ms/step - loss: 26.8957\n",
            "Epoch 72/150\n",
            "1/1 [==============================] - 0s 3ms/step - loss: 24.7225\n",
            "Epoch 73/150\n",
            "1/1 [==============================] - 0s 2ms/step - loss: 22.8855\n",
            "Epoch 74/150\n",
            "1/1 [==============================] - 0s 1ms/step - loss: 21.2991\n",
            "Epoch 75/150\n",
            "1/1 [==============================] - 0s 4ms/step - loss: 19.8450\n",
            "Epoch 76/150\n",
            "1/1 [==============================] - 0s 2ms/step - loss: 18.4206\n",
            "Epoch 77/150\n",
            "1/1 [==============================] - 0s 2ms/step - loss: 16.9735\n",
            "Epoch 78/150\n",
            "1/1 [==============================] - 0s 2ms/step - loss: 15.5106\n",
            "Epoch 79/150\n",
            "1/1 [==============================] - 0s 2ms/step - loss: 14.0837\n",
            "Epoch 80/150\n",
            "1/1 [==============================] - 0s 3ms/step - loss: 12.7589\n",
            "Epoch 81/150\n",
            "1/1 [==============================] - 0s 2ms/step - loss: 11.5863\n",
            "Epoch 82/150\n",
            "1/1 [==============================] - 0s 4ms/step - loss: 10.5802\n",
            "Epoch 83/150\n",
            "1/1 [==============================] - 0s 1ms/step - loss: 9.7174\n",
            "Epoch 84/150\n",
            "1/1 [==============================] - 0s 2ms/step - loss: 8.9508\n",
            "Epoch 85/150\n",
            "1/1 [==============================] - 0s 1ms/step - loss: 8.2309\n",
            "Epoch 86/150\n",
            "1/1 [==============================] - 0s 2ms/step - loss: 7.5240\n",
            "Epoch 87/150\n",
            "1/1 [==============================] - 0s 2ms/step - loss: 6.8224\n",
            "Epoch 88/150\n",
            "1/1 [==============================] - 0s 2ms/step - loss: 6.1408\n",
            "Epoch 89/150\n",
            "1/1 [==============================] - 0s 2ms/step - loss: 5.5055\n",
            "Epoch 90/150\n",
            "1/1 [==============================] - 0s 4ms/step - loss: 4.9396\n",
            "Epoch 91/150\n",
            "1/1 [==============================] - 0s 2ms/step - loss: 4.4522\n",
            "Epoch 92/150\n",
            "1/1 [==============================] - 0s 1ms/step - loss: 4.0361\n",
            "Epoch 93/150\n",
            "1/1 [==============================] - 0s 1ms/step - loss: 3.6718\n",
            "Epoch 94/150\n",
            "1/1 [==============================] - 0s 2ms/step - loss: 3.3370\n",
            "Epoch 95/150\n",
            "1/1 [==============================] - 0s 1ms/step - loss: 3.0154\n",
            "Epoch 96/150\n",
            "1/1 [==============================] - 0s 2ms/step - loss: 2.7015\n",
            "Epoch 97/150\n",
            "1/1 [==============================] - 0s 2ms/step - loss: 2.4003\n",
            "Epoch 98/150\n",
            "1/1 [==============================] - 0s 2ms/step - loss: 2.1223\n",
            "Epoch 99/150\n",
            "1/1 [==============================] - 0s 1ms/step - loss: 1.8769\n",
            "Epoch 100/150\n",
            "1/1 [==============================] - 0s 1ms/step - loss: 1.6677\n",
            "Epoch 101/150\n",
            "1/1 [==============================] - 0s 1ms/step - loss: 1.4910\n",
            "Epoch 102/150\n",
            "1/1 [==============================] - 0s 2ms/step - loss: 1.3379\n",
            "Epoch 103/150\n",
            "1/1 [==============================] - 0s 2ms/step - loss: 1.1986\n",
            "Epoch 104/150\n",
            "1/1 [==============================] - 0s 2ms/step - loss: 1.0662\n",
            "Epoch 105/150\n",
            "1/1 [==============================] - 0s 1ms/step - loss: 0.9385\n",
            "Epoch 106/150\n",
            "1/1 [==============================] - 0s 2ms/step - loss: 0.8180\n",
            "Epoch 107/150\n",
            "1/1 [==============================] - 0s 1ms/step - loss: 0.7091\n",
            "Epoch 108/150\n",
            "1/1 [==============================] - 0s 1ms/step - loss: 0.6153\n",
            "Epoch 109/150\n",
            "1/1 [==============================] - 0s 1ms/step - loss: 0.5373\n",
            "Epoch 110/150\n",
            "1/1 [==============================] - 0s 2ms/step - loss: 0.4727\n",
            "Epoch 111/150\n",
            "1/1 [==============================] - 0s 1ms/step - loss: 0.4173\n",
            "Epoch 112/150\n",
            "1/1 [==============================] - 0s 2ms/step - loss: 0.3668\n",
            "Epoch 113/150\n",
            "1/1 [==============================] - 0s 1ms/step - loss: 0.3187\n",
            "Epoch 114/150\n",
            "1/1 [==============================] - 0s 1ms/step - loss: 0.2729\n",
            "Epoch 115/150\n",
            "1/1 [==============================] - 0s 3ms/step - loss: 0.2306\n",
            "Epoch 116/150\n",
            "1/1 [==============================] - 0s 1ms/step - loss: 0.1939\n",
            "Epoch 117/150\n",
            "1/1 [==============================] - 0s 1ms/step - loss: 0.1637\n",
            "Epoch 118/150\n",
            "1/1 [==============================] - 0s 2ms/step - loss: 0.1397\n",
            "Epoch 119/150\n",
            "1/1 [==============================] - 0s 1ms/step - loss: 0.1205\n",
            "Epoch 120/150\n",
            "1/1 [==============================] - 0s 1ms/step - loss: 0.1040\n",
            "Epoch 121/150\n",
            "1/1 [==============================] - 0s 2ms/step - loss: 0.0887\n",
            "Epoch 122/150\n",
            "1/1 [==============================] - 0s 1ms/step - loss: 0.0739\n",
            "Epoch 123/150\n",
            "1/1 [==============================] - 0s 2ms/step - loss: 0.0600\n",
            "Epoch 124/150\n",
            "1/1 [==============================] - 0s 1ms/step - loss: 0.0478\n",
            "Epoch 125/150\n",
            "1/1 [==============================] - 0s 2ms/step - loss: 0.0380\n",
            "Epoch 126/150\n",
            "1/1 [==============================] - 0s 1ms/step - loss: 0.0307\n",
            "Epoch 127/150\n",
            "1/1 [==============================] - 0s 1ms/step - loss: 0.0255\n",
            "Epoch 128/150\n",
            "1/1 [==============================] - 0s 1ms/step - loss: 0.0215\n",
            "Epoch 129/150\n",
            "1/1 [==============================] - 0s 1ms/step - loss: 0.0178\n",
            "Epoch 130/150\n",
            "1/1 [==============================] - 0s 2ms/step - loss: 0.0142\n",
            "Epoch 131/150\n",
            "1/1 [==============================] - 0s 5ms/step - loss: 0.0106\n",
            "Epoch 132/150\n",
            "1/1 [==============================] - 0s 1ms/step - loss: 0.0074\n",
            "Epoch 133/150\n",
            "1/1 [==============================] - 0s 1ms/step - loss: 0.0050\n",
            "Epoch 134/150\n",
            "1/1 [==============================] - 0s 1ms/step - loss: 0.0034\n",
            "Epoch 135/150\n",
            "1/1 [==============================] - 0s 985us/step - loss: 0.0026\n",
            "Epoch 136/150\n",
            "1/1 [==============================] - 0s 2ms/step - loss: 0.0023\n",
            "Epoch 137/150\n",
            "1/1 [==============================] - 0s 3ms/step - loss: 0.0020\n",
            "Epoch 138/150\n",
            "1/1 [==============================] - 0s 2ms/step - loss: 0.0016\n",
            "Epoch 139/150\n",
            "1/1 [==============================] - 0s 3ms/step - loss: 0.0010\n",
            "Epoch 140/150\n",
            "1/1 [==============================] - 0s 3ms/step - loss: 4.6267e-04\n",
            "Epoch 141/150\n",
            "1/1 [==============================] - 0s 3ms/step - loss: 9.1943e-05\n",
            "Epoch 142/150\n",
            "1/1 [==============================] - 0s 3ms/step - loss: 1.2320e-05\n",
            "Epoch 143/150\n",
            "1/1 [==============================] - 0s 3ms/step - loss: 1.8911e-04\n",
            "Epoch 144/150\n",
            "1/1 [==============================] - 0s 2ms/step - loss: 4.8546e-04\n",
            "Epoch 145/150\n",
            "1/1 [==============================] - 0s 4ms/step - loss: 7.4599e-04\n",
            "Epoch 146/150\n",
            "1/1 [==============================] - 0s 3ms/step - loss: 8.7656e-04\n",
            "Epoch 147/150\n",
            "1/1 [==============================] - 0s 3ms/step - loss: 8.7880e-04\n",
            "Epoch 148/150\n",
            "1/1 [==============================] - 0s 3ms/step - loss: 8.2824e-04\n",
            "Epoch 149/150\n",
            "1/1 [==============================] - 0s 2ms/step - loss: 8.1629e-04\n",
            "Epoch 150/150\n",
            "1/1 [==============================] - 0s 3ms/step - loss: 8.9531e-04\n"
          ],
          "name": "stdout"
        }
      ]
    },
    {
      "cell_type": "markdown",
      "metadata": {
        "id": "-wRQqOeB5Zh5"
      },
      "source": [
        "# STEP#5: EVALUATING THE MODEL "
      ]
    },
    {
      "cell_type": "code",
      "metadata": {
        "id": "dfUb63035TJL",
        "colab": {
          "base_uri": "https://localhost:8080/"
        },
        "outputId": "f6ae2243-8c4b-4064-9496-b847c3580be7"
      },
      "source": [
        "epochs_hist.history.keys()"
      ],
      "execution_count": null,
      "outputs": [
        {
          "output_type": "execute_result",
          "data": {
            "text/plain": [
              "dict_keys(['loss'])"
            ]
          },
          "metadata": {
            "tags": []
          },
          "execution_count": 29
        }
      ]
    },
    {
      "cell_type": "code",
      "metadata": {
        "id": "eXiDop_l5erJ",
        "colab": {
          "base_uri": "https://localhost:8080/",
          "height": 312
        },
        "outputId": "ac02f5c8-4e35-49d6-db97-d28318c9776e"
      },
      "source": [
        "plt.plot(epochs_hist.history['loss'])\n",
        "plt.title('Model Loss Progress During Training')\n",
        "plt.xlabel('Epoch')\n",
        "plt.ylabel('Training Loss')\n",
        "plt.legend(['Training Loss'])"
      ],
      "execution_count": null,
      "outputs": [
        {
          "output_type": "execute_result",
          "data": {
            "text/plain": [
              "<matplotlib.legend.Legend at 0x7f289a605128>"
            ]
          },
          "metadata": {
            "tags": []
          },
          "execution_count": 30
        },
        {
          "output_type": "display_data",
          "data": {
            "image/png": "[encoded data removed]",
            "text/plain": [
              "<Figure size 432x288 with 1 Axes>"
            ]
          },
          "metadata": {
            "tags": [],
            "needs_background": "light"
          }
        }
      ]
    },
    {
      "cell_type": "code",
      "metadata": {
        "id": "yFYpuUJWBn6L",
        "colab": {
          "base_uri": "https://localhost:8080/"
        },
        "outputId": "76936a66-4893-4a70-d11e-7b5a15516ba7"
      },
      "source": [
        "model.get_weights()"
      ],
      "execution_count": null,
      "outputs": [
        {
          "output_type": "execute_result",
          "data": {
            "text/plain": [
              "[array([[1.7995331]], dtype=float32), array([32.03168], dtype=float32)]"
            ]
          },
          "metadata": {
            "tags": []
          },
          "execution_count": 31
        }
      ]
    },
    {
      "cell_type": "code",
      "metadata": {
        "id": "isfjfT735fjD",
        "colab": {
          "base_uri": "https://localhost:8080/"
        },
        "outputId": "32d88372-5316-4181-828e-8e5482cf97fa"
      },
      "source": [
        "# Use the trained model to perform predictions\n",
        "\n",
        "Temp_C = 0\n",
        "Temp_F = model.predict([Temp_C])\n",
        "print('Temperature in degF Using Trained ANN =', Temp_F)\n"
      ],
      "execution_count": null,
      "outputs": [
        {
          "output_type": "stream",
          "text": [
            "Temperature in degF Using Trained ANN = [[32.03168]]\n"
          ],
          "name": "stdout"
        }
      ]
    },
    {
      "cell_type": "code",
      "metadata": {
        "id": "mfP_j7LaDjNR",
        "colab": {
          "base_uri": "https://localhost:8080/"
        },
        "outputId": "1f6edb19-cd8d-488a-cddf-0cc8c88d4b35"
      },
      "source": [
        "# Let's confirm this Using the equation: \n",
        "Temp_F = 9/5 * Temp_C + 32\n",
        "print('Temperature in degF Using Equation =', Temp_F)\n"
      ],
      "execution_count": null,
      "outputs": [
        {
          "output_type": "stream",
          "text": [
            "Temperature in degF Using Equation = 32.0\n"
          ],
          "name": "stdout"
        }
      ]
    },
    {
      "cell_type": "markdown",
      "metadata": {
        "id": "Jqhg9NaCF_Uq"
      },
      "source": [
        "Pretty similar results."
      ]
    },
    {
      "cell_type": "code",
      "metadata": {
        "id": "RwVZg2iYFldq"
      },
      "source": [
        ""
      ],
      "execution_count": null,
      "outputs": []
    }
  ]
}