{
  "nbformat": 4,
  "nbformat_minor": 0,
  "metadata": {
    "accelerator": "GPU",
    "colab": {
      "name": "NLP(sarcasm).ipynb",
      "provenance": [],
      "collapsed_sections": [],
      "include_colab_link": true
    },
    "kernelspec": {
      "display_name": "Python 3",
      "name": "python3"
    }
  },
  "cells": [
    {
      "cell_type": "markdown",
      "metadata": {
        "id": "view-in-github",
        "colab_type": "text"
      },
      "source": [
        "<a href=\"https://colab.research.google.com/github/sivasaiyadav8143/TensorFlow-2.x/blob/main/NLP(sarcasm).ipynb\" target=\"_parent\"><img src=\"https://colab.research.google.com/assets/colab-badge.svg\" alt=\"Open In Colab\"/></a>"
      ]
    },
    {
      "cell_type": "code",
      "metadata": {
        "id": "XYYDvoskkE61"
      },
      "source": [
        "import json\n",
        "import tensorflow as tf\n",
        "\n",
        "from tensorflow.keras.preprocessing.text import Tokenizer\n",
        "from tensorflow.keras.preprocessing.sequence import pad_sequences"
      ],
      "execution_count": 1,
      "outputs": []
    },
    {
      "cell_type": "code",
      "metadata": {
        "id": "0eJSTTYnkJQd"
      },
      "source": [
        "vocab_size = 10000\n",
        "embedding_dim = 16\n",
        "max_length = 100\n",
        "trunc_type='post'\n",
        "padding_type='post'\n",
        "oov_tok = \"<OOV>\"\n",
        "training_size = 20000\n"
      ],
      "execution_count": 2,
      "outputs": []
    },
    {
      "cell_type": "code",
      "metadata": {
        "id": "BQVuQrZNkPn9",
        "colab": {
          "base_uri": "https://localhost:8080/"
        },
        "outputId": "ca9ee711-6111-4db7-8404-c6ce342c43a4"
      },
      "source": [
        "!wget --no-check-certificate \\\n",
        "    https://storage.googleapis.com/laurencemoroney-blog.appspot.com/sarcasm.json \\\n",
        "    -O /tmp/sarcasm.json\n"
      ],
      "execution_count": 3,
      "outputs": [
        {
          "output_type": "stream",
          "text": [
            "--2020-12-12 14:24:34--  https://storage.googleapis.com/laurencemoroney-blog.appspot.com/sarcasm.json\n",
            "Resolving storage.googleapis.com (storage.googleapis.com)... 74.125.20.128, 74.125.142.128, 2607:f8b0:400e:c0a::80, ...\n",
            "Connecting to storage.googleapis.com (storage.googleapis.com)|74.125.20.128|:443... connected.\n",
            "HTTP request sent, awaiting response... 200 OK\n",
            "Length: 5643545 (5.4M) [application/json]\n",
            "Saving to: ‘/tmp/sarcasm.json’\n",
            "\n",
            "\r/tmp/sarcasm.json     0%[                    ]       0  --.-KB/s               \r/tmp/sarcasm.json   100%[===================>]   5.38M  --.-KB/s    in 0.02s   \n",
            "\n",
            "2020-12-12 14:24:34 (224 MB/s) - ‘/tmp/sarcasm.json’ saved [5643545/5643545]\n",
            "\n"
          ],
          "name": "stdout"
        }
      ]
    },
    {
      "cell_type": "code",
      "metadata": {
        "id": "oaLaaqhNkUPd"
      },
      "source": [
        "with open(\"/tmp/sarcasm.json\", 'r') as f:\n",
        "    datastore = json.load(f)\n",
        "\n",
        "sentences = []\n",
        "labels = []\n",
        "\n",
        "for item in datastore:\n",
        "    sentences.append(item['headline'])\n",
        "    labels.append(item['is_sarcastic'])"
      ],
      "execution_count": 4,
      "outputs": []
    },
    {
      "cell_type": "code",
      "metadata": {
        "id": "S1sD-7v0kYWk"
      },
      "source": [
        "training_sentences = sentences[0:training_size]\n",
        "testing_sentences = sentences[training_size:]\n",
        "training_labels = labels[0:training_size]\n",
        "testing_labels = labels[training_size:]"
      ],
      "execution_count": 5,
      "outputs": []
    },
    {
      "cell_type": "code",
      "metadata": {
        "id": "3u8UB0MCkZ5N"
      },
      "source": [
        "tokenizer = Tokenizer(num_words=vocab_size, oov_token=oov_tok)\n",
        "tokenizer.fit_on_texts(training_sentences)\n",
        "\n",
        "word_index = tokenizer.word_index\n",
        "\n",
        "training_sequences = tokenizer.texts_to_sequences(training_sentences)\n",
        "training_padded = pad_sequences(training_sequences, maxlen=max_length, padding=padding_type, truncating=trunc_type)\n",
        "\n",
        "testing_sequences = tokenizer.texts_to_sequences(testing_sentences)\n",
        "testing_padded = pad_sequences(testing_sequences, maxlen=max_length, padding=padding_type, truncating=trunc_type)"
      ],
      "execution_count": 6,
      "outputs": []
    },
    {
      "cell_type": "code",
      "metadata": {
        "id": "GrAlWBKf99Ya"
      },
      "source": [
        "# Need this block to get it to work with TensorFlow 2.x\n",
        "import numpy as np\n",
        "training_padded = np.array(training_padded)\n",
        "training_labels = np.array(training_labels)\n",
        "testing_padded = np.array(testing_padded)\n",
        "testing_labels = np.array(testing_labels)"
      ],
      "execution_count": 7,
      "outputs": []
    },
    {
      "cell_type": "code",
      "metadata": {
        "id": "FufaT4vlkiDE"
      },
      "source": [
        "model = tf.keras.Sequential([\n",
        "    tf.keras.layers.Embedding(vocab_size, embedding_dim, input_length=max_length),\n",
        "    tf.keras.layers.GlobalAveragePooling1D(),\n",
        "    tf.keras.layers.Dense(24, activation='relu'),\n",
        "    tf.keras.layers.Dense(1, activation='sigmoid')\n",
        "])\n",
        "model.compile(loss='binary_crossentropy',optimizer='adam',metrics=['accuracy'])"
      ],
      "execution_count": 8,
      "outputs": []
    },
    {
      "cell_type": "code",
      "metadata": {
        "id": "XfDt1hmYkiys",
        "colab": {
          "base_uri": "https://localhost:8080/"
        },
        "outputId": "ca278b69-840c-46c7-c405-c310c794d53d"
      },
      "source": [
        "model.summary()\n"
      ],
      "execution_count": 9,
      "outputs": [
        {
          "output_type": "stream",
          "text": [
            "Model: \"sequential\"\n",
            "_________________________________________________________________\n",
            "Layer (type)                 Output Shape              Param #   \n",
            "=================================================================\n",
            "embedding (Embedding)        (None, 100, 16)           160000    \n",
            "_________________________________________________________________\n",
            "global_average_pooling1d (Gl (None, 16)                0         \n",
            "_________________________________________________________________\n",
            "dense (Dense)                (None, 24)                408       \n",
            "_________________________________________________________________\n",
            "dense_1 (Dense)              (None, 1)                 25        \n",
            "=================================================================\n",
            "Total params: 160,433\n",
            "Trainable params: 160,433\n",
            "Non-trainable params: 0\n",
            "_________________________________________________________________\n"
          ],
          "name": "stdout"
        }
      ]
    },
    {
      "cell_type": "code",
      "metadata": {
        "id": "2DTKQFf1kkyc",
        "colab": {
          "base_uri": "https://localhost:8080/"
        },
        "outputId": "0c5dd733-efa4-4cf2-c4e5-84e1cfab62bb"
      },
      "source": [
        "num_epochs = 30\n",
        "history = model.fit(training_padded, training_labels, epochs=num_epochs, validation_data=(testing_padded, testing_labels), verbose=2)"
      ],
      "execution_count": 10,
      "outputs": [
        {
          "output_type": "stream",
          "text": [
            "Epoch 1/30\n",
            "625/625 - 3s - loss: 0.6625 - accuracy: 0.5878 - val_loss: 0.5762 - val_accuracy: 0.7930\n",
            "Epoch 2/30\n",
            "625/625 - 3s - loss: 0.4304 - accuracy: 0.8284 - val_loss: 0.3834 - val_accuracy: 0.8390\n",
            "Epoch 3/30\n",
            "625/625 - 3s - loss: 0.3101 - accuracy: 0.8759 - val_loss: 0.3577 - val_accuracy: 0.8474\n",
            "Epoch 4/30\n",
            "625/625 - 3s - loss: 0.2582 - accuracy: 0.8993 - val_loss: 0.3463 - val_accuracy: 0.8530\n",
            "Epoch 5/30\n",
            "625/625 - 3s - loss: 0.2229 - accuracy: 0.9143 - val_loss: 0.3439 - val_accuracy: 0.8569\n",
            "Epoch 6/30\n",
            "625/625 - 3s - loss: 0.1959 - accuracy: 0.9262 - val_loss: 0.3515 - val_accuracy: 0.8551\n",
            "Epoch 7/30\n",
            "625/625 - 3s - loss: 0.1729 - accuracy: 0.9355 - val_loss: 0.3687 - val_accuracy: 0.8514\n",
            "Epoch 8/30\n",
            "625/625 - 3s - loss: 0.1549 - accuracy: 0.9428 - val_loss: 0.3791 - val_accuracy: 0.8536\n",
            "Epoch 9/30\n",
            "625/625 - 3s - loss: 0.1391 - accuracy: 0.9513 - val_loss: 0.3960 - val_accuracy: 0.8514\n",
            "Epoch 10/30\n",
            "625/625 - 3s - loss: 0.1264 - accuracy: 0.9564 - val_loss: 0.4237 - val_accuracy: 0.8484\n",
            "Epoch 11/30\n",
            "625/625 - 3s - loss: 0.1170 - accuracy: 0.9580 - val_loss: 0.4441 - val_accuracy: 0.8450\n",
            "Epoch 12/30\n",
            "625/625 - 3s - loss: 0.1050 - accuracy: 0.9636 - val_loss: 0.4750 - val_accuracy: 0.8425\n",
            "Epoch 13/30\n",
            "625/625 - 3s - loss: 0.0959 - accuracy: 0.9675 - val_loss: 0.4887 - val_accuracy: 0.8435\n",
            "Epoch 14/30\n",
            "625/625 - 3s - loss: 0.0867 - accuracy: 0.9712 - val_loss: 0.5195 - val_accuracy: 0.8395\n",
            "Epoch 15/30\n",
            "625/625 - 3s - loss: 0.0800 - accuracy: 0.9726 - val_loss: 0.5589 - val_accuracy: 0.8335\n",
            "Epoch 16/30\n",
            "625/625 - 3s - loss: 0.0732 - accuracy: 0.9760 - val_loss: 0.6058 - val_accuracy: 0.8320\n",
            "Epoch 17/30\n",
            "625/625 - 3s - loss: 0.0657 - accuracy: 0.9798 - val_loss: 0.6174 - val_accuracy: 0.8293\n",
            "Epoch 18/30\n",
            "625/625 - 3s - loss: 0.0611 - accuracy: 0.9804 - val_loss: 0.6478 - val_accuracy: 0.8302\n",
            "Epoch 19/30\n",
            "625/625 - 3s - loss: 0.0564 - accuracy: 0.9822 - val_loss: 0.6904 - val_accuracy: 0.8286\n",
            "Epoch 20/30\n",
            "625/625 - 3s - loss: 0.0520 - accuracy: 0.9843 - val_loss: 0.7198 - val_accuracy: 0.8272\n",
            "Epoch 21/30\n",
            "625/625 - 3s - loss: 0.0481 - accuracy: 0.9850 - val_loss: 0.7873 - val_accuracy: 0.8241\n",
            "Epoch 22/30\n",
            "625/625 - 3s - loss: 0.0452 - accuracy: 0.9861 - val_loss: 0.7945 - val_accuracy: 0.8240\n",
            "Epoch 23/30\n",
            "625/625 - 3s - loss: 0.0406 - accuracy: 0.9880 - val_loss: 0.8320 - val_accuracy: 0.8204\n",
            "Epoch 24/30\n",
            "625/625 - 3s - loss: 0.0378 - accuracy: 0.9883 - val_loss: 0.8893 - val_accuracy: 0.8193\n",
            "Epoch 25/30\n",
            "625/625 - 3s - loss: 0.0331 - accuracy: 0.9905 - val_loss: 0.9268 - val_accuracy: 0.8179\n",
            "Epoch 26/30\n",
            "625/625 - 3s - loss: 0.0314 - accuracy: 0.9910 - val_loss: 0.9788 - val_accuracy: 0.8170\n",
            "Epoch 27/30\n",
            "625/625 - 3s - loss: 0.0291 - accuracy: 0.9912 - val_loss: 0.9929 - val_accuracy: 0.8153\n",
            "Epoch 28/30\n",
            "625/625 - 3s - loss: 0.0278 - accuracy: 0.9921 - val_loss: 1.0398 - val_accuracy: 0.8159\n",
            "Epoch 29/30\n",
            "625/625 - 3s - loss: 0.0269 - accuracy: 0.9923 - val_loss: 1.0923 - val_accuracy: 0.8156\n",
            "Epoch 30/30\n",
            "625/625 - 3s - loss: 0.0233 - accuracy: 0.9942 - val_loss: 1.0910 - val_accuracy: 0.8122\n"
          ],
          "name": "stdout"
        }
      ]
    },
    {
      "cell_type": "code",
      "metadata": {
        "id": "2HYfBKXjkmU8",
        "colab": {
          "base_uri": "https://localhost:8080/",
          "height": 541
        },
        "outputId": "5e3e066d-cca5-49de-ca10-9930fdc55066"
      },
      "source": [
        "import matplotlib.pyplot as plt\n",
        "\n",
        "\n",
        "def plot_graphs(history, string):\n",
        "  plt.plot(history.history[string])\n",
        "  plt.plot(history.history['val_'+string])\n",
        "  plt.xlabel(\"Epochs\")\n",
        "  plt.ylabel(string)\n",
        "  plt.legend([string, 'val_'+string])\n",
        "  plt.show()\n",
        "  \n",
        "plot_graphs(history, \"accuracy\")\n",
        "plot_graphs(history, \"loss\")"
      ],
      "execution_count": 11,
      "outputs": [
        {
          "output_type": "display_data",
          "data": {
            "image/png": "[encoded data removed]",
            "text/plain": [
              "<Figure size 432x288 with 1 Axes>"
            ]
          },
          "metadata": {
            "tags": [],
            "needs_background": "light"
          }
        },
        {
          "output_type": "display_data",
          "data": {
            "image/png": "[encoded data removed]",
            "text/plain": [
              "<Figure size 432x288 with 1 Axes>"
            ]
          },
          "metadata": {
            "tags": [],
            "needs_background": "light"
          }
        }
      ]
    },
    {
      "cell_type": "code",
      "metadata": {
        "id": "7SBdAZAenvzL",
        "colab": {
          "base_uri": "https://localhost:8080/"
        },
        "outputId": "5eef5fa7-a688-4e30-b2e2-6ed36e79e533"
      },
      "source": [
        "reverse_word_index = dict([(value, key) for (key, value) in word_index.items()])\n",
        "\n",
        "def decode_sentence(text):\n",
        "    return ' '.join([reverse_word_index.get(i, '?') for i in text])\n",
        "\n",
        "print(decode_sentence(training_padded[0]))\n",
        "print(training_sentences[2])\n",
        "print(labels[2])"
      ],
      "execution_count": 12,
      "outputs": [
        {
          "output_type": "stream",
          "text": [
            "former <OOV> store clerk sues over secret 'black <OOV> for minority shoppers ? ? ? ? ? ? ? ? ? ? ? ? ? ? ? ? ? ? ? ? ? ? ? ? ? ? ? ? ? ? ? ? ? ? ? ? ? ? ? ? ? ? ? ? ? ? ? ? ? ? ? ? ? ? ? ? ? ? ? ? ? ? ? ? ? ? ? ? ? ? ? ? ? ? ? ? ? ? ? ? ? ? ? ? ? ? ? ?\n",
            "mom starting to fear son's web series closest thing she will have to grandchild\n",
            "1\n"
          ],
          "name": "stdout"
        }
      ]
    },
    {
      "cell_type": "code",
      "metadata": {
        "id": "c9MqihtEkzQ9",
        "colab": {
          "base_uri": "https://localhost:8080/"
        },
        "outputId": "5a091d09-cf18-4709-f6b6-c1552ff4da3a"
      },
      "source": [
        "e = model.layers[0]\n",
        "weights = e.get_weights()[0]\n",
        "print(weights.shape) # shape: (vocab_size, embedding_dim)\n"
      ],
      "execution_count": 13,
      "outputs": [
        {
          "output_type": "stream",
          "text": [
            "(10000, 16)\n"
          ],
          "name": "stdout"
        }
      ]
    },
    {
      "cell_type": "code",
      "metadata": {
        "id": "LoBXVffknldU"
      },
      "source": [
        "import io\n",
        "\n",
        "out_v = io.open('vecs.tsv', 'w', encoding='utf-8')\n",
        "out_m = io.open('meta.tsv', 'w', encoding='utf-8')\n",
        "for word_num in range(1, vocab_size):\n",
        "  word = reverse_word_index[word_num]\n",
        "  embeddings = weights[word_num]\n",
        "  out_m.write(word + \"\\n\")\n",
        "  out_v.write('\\t'.join([str(x) for x in embeddings]) + \"\\n\")\n",
        "out_v.close()\n",
        "out_m.close()"
      ],
      "execution_count": 14,
      "outputs": []
    },
    {
      "cell_type": "code",
      "metadata": {
        "id": "U4eZ5HtVnnEE"
      },
      "source": [
        "try:\n",
        "  from google.colab import files\n",
        "except ImportError:\n",
        "  pass\n",
        "else:\n",
        "  files.download('vecs.tsv')\n",
        "  files.download('meta.tsv')"
      ],
      "execution_count": null,
      "outputs": []
    },
    {
      "cell_type": "code",
      "metadata": {
        "id": "cG8-ArY-qDcz",
        "colab": {
          "base_uri": "https://localhost:8080/"
        },
        "outputId": "a15e1266-50dd-4617-d421-c221373a2679"
      },
      "source": [
        "sentence = [\"granny starting to fear spiders in the garden might be real\", \"game of thrones season finale showing this sunday night\"]\n",
        "sequences = tokenizer.texts_to_sequences(sentence)\n",
        "padded = pad_sequences(sequences, maxlen=max_length, padding=padding_type, truncating=trunc_type)\n",
        "print(model.predict(padded))"
      ],
      "execution_count": 15,
      "outputs": [
        {
          "output_type": "stream",
          "text": [
            "[[9.8379296e-01]\n",
            " [1.5835887e-05]]\n"
          ],
          "name": "stdout"
        }
      ]
    },
    {
      "cell_type": "code",
      "metadata": {
        "id": "jqKOU8BHWQAe"
      },
      "source": [
        ""
      ],
      "execution_count": null,
      "outputs": []
    }
  ]
}