{
  "nbformat": 4,
  "nbformat_minor": 0,
  "metadata": {
    "colab": {
      "name": "Predict Ice Cream Sales Using Temperature.ipynb",
      "provenance": [],
      "collapsed_sections": [],
      "include_colab_link": true
    },
    "kernelspec": {
      "name": "python3",
      "display_name": "Python 3"
    },
    "accelerator": "GPU"
  },
  "cells": [
    {
      "cell_type": "markdown",
      "metadata": {
        "id": "view-in-github",
        "colab_type": "text"
      },
      "source": [
        "<a href=\"https://colab.research.google.com/github/sivasaiyadav8143/TensorFlow-2.x/blob/main/Predict_Ice_Cream_Sales_Using_Temperature.ipynb\" target=\"_parent\"><img src=\"https://colab.research.google.com/assets/colab-badge.svg\" alt=\"Open In Colab\"/></a>"
      ]
    },
    {
      "cell_type": "markdown",
      "metadata": {
        "id": "M27qF7CTrBqc"
      },
      "source": [
        "# PROBLEM STATEMENT"
      ]
    },
    {
      "cell_type": "markdown",
      "metadata": {
        "id": "iCj2rwwHBB1I"
      },
      "source": [
        "\n",
        "- You own an ice cream business and you would like to create a model that could predict the daily revenue in dollars based on the outside air temperature (degC). You decided to build a simple Artificial Neural Network to solve this problem.  \n",
        "\n",
        "- Data set:\n",
        "  - Input (X): Outside Air Temperature\n",
        "  - Output (Y): Overall daily revenue generated in dollars \n",
        "\n",
        "- This example is a regression example, we will cover regression in more details in future projects. "
      ]
    },
    {
      "cell_type": "markdown",
      "metadata": {
        "id": "Z2ZMlH-gtOxf"
      },
      "source": [
        "\n",
        "<table>\n",
        "  <tr><td>\n",
        "    <img src=\"https://upload.wikimedia.org/wikipedia/commons/6/63/Big_Gay_Ice_Cream_Truck.jpg\"\n",
        "          width=\"600\">\n",
        "  </td></tr>\n",
        "  <tr><td align=\"center\">\n",
        "    <b>Figure 1. Predict Ice Cream Sales [Source: https://upload.wikimedia.org/wikipedia/commons/6/63/Big_Gay_Ice_Cream_Truck.jpg]\n",
        "  </td></tr>\n",
        "</table>\n"
      ]
    },
    {
      "cell_type": "markdown",
      "metadata": {
        "id": "zKmFmyaGunc7"
      },
      "source": [
        "# STEP #0: IMPORT LIBRARIES"
      ]
    },
    {
      "cell_type": "code",
      "metadata": {
        "id": "96V_NSAYaCev"
      },
      "source": [
        "# !pip install tensorflow-gpu==2.0.0.alpha0\n",
        "import tensorflow as tf\n",
        "import pandas as pd\n",
        "import numpy as np\n",
        "import seaborn as sns\n",
        "import matplotlib.pyplot as plt"
      ],
      "execution_count": 1,
      "outputs": []
    },
    {
      "cell_type": "markdown",
      "metadata": {
        "id": "uAE6Icc0uylP"
      },
      "source": [
        "# STEP #1: IMPORT DATASET"
      ]
    },
    {
      "cell_type": "code",
      "metadata": {
        "id": "rmIU84Drd7yw",
        "colab": {
          "base_uri": "https://localhost:8080/"
        },
        "outputId": "3f53f4d9-eb88-4115-efa9-2b6da117f6df"
      },
      "source": [
        "# You will need to mount your drive using the following commands:\n",
        "# For more information regarding mounting, please check this out: https://stackoverflow.com/questions/46986398/import-data-into-google-colaboratory\n",
        "\n",
        "from google.colab import drive\n",
        "drive.mount('/content/drive')"
      ],
      "execution_count": 2,
      "outputs": [
        {
          "output_type": "stream",
          "text": [
            "Mounted at /content/drive\n"
          ],
          "name": "stdout"
        }
      ]
    },
    {
      "cell_type": "code",
      "metadata": {
        "id": "mLjnytV6eMA0"
      },
      "source": [
        "sales_df = pd.read_csv('/content/drive/MyDrive/Data/SalesData.csv')"
      ],
      "execution_count": 4,
      "outputs": []
    },
    {
      "cell_type": "code",
      "metadata": {
        "id": "q4_wPDKCu5Uc",
        "colab": {
          "base_uri": "https://localhost:8080/",
          "height": 419
        },
        "outputId": "f876206e-1c49-4897-d35d-4bf65ae37d68"
      },
      "source": [
        "sales_df"
      ],
      "execution_count": 5,
      "outputs": [
        {
          "output_type": "execute_result",
          "data": {
            "text/html": [
              "<div>\n",
              "<style scoped>\n",
              "    .dataframe tbody tr th:only-of-type {\n",
              "        vertical-align: middle;\n",
              "    }\n",
              "\n",
              "    .dataframe tbody tr th {\n",
              "        vertical-align: top;\n",
              "    }\n",
              "\n",
              "    .dataframe thead th {\n",
              "        text-align: right;\n",
              "    }\n",
              "</style>\n",
              "<table border=\"1\" class=\"dataframe\">\n",
              "  <thead>\n",
              "    <tr style=\"text-align: right;\">\n",
              "      <th></th>\n",
              "      <th>Temperature</th>\n",
              "      <th>Revenue</th>\n",
              "    </tr>\n",
              "  </thead>\n",
              "  <tbody>\n",
              "    <tr>\n",
              "      <th>0</th>\n",
              "      <td>24.566884</td>\n",
              "      <td>534.799028</td>\n",
              "    </tr>\n",
              "    <tr>\n",
              "      <th>1</th>\n",
              "      <td>26.005191</td>\n",
              "      <td>625.190122</td>\n",
              "    </tr>\n",
              "    <tr>\n",
              "      <th>2</th>\n",
              "      <td>27.790554</td>\n",
              "      <td>660.632289</td>\n",
              "    </tr>\n",
              "    <tr>\n",
              "      <th>3</th>\n",
              "      <td>20.595335</td>\n",
              "      <td>487.706960</td>\n",
              "    </tr>\n",
              "    <tr>\n",
              "      <th>4</th>\n",
              "      <td>11.503498</td>\n",
              "      <td>316.240194</td>\n",
              "    </tr>\n",
              "    <tr>\n",
              "      <th>...</th>\n",
              "      <td>...</td>\n",
              "      <td>...</td>\n",
              "    </tr>\n",
              "    <tr>\n",
              "      <th>495</th>\n",
              "      <td>22.274899</td>\n",
              "      <td>524.746364</td>\n",
              "    </tr>\n",
              "    <tr>\n",
              "      <th>496</th>\n",
              "      <td>32.893092</td>\n",
              "      <td>755.818399</td>\n",
              "    </tr>\n",
              "    <tr>\n",
              "      <th>497</th>\n",
              "      <td>12.588157</td>\n",
              "      <td>306.090719</td>\n",
              "    </tr>\n",
              "    <tr>\n",
              "      <th>498</th>\n",
              "      <td>22.362402</td>\n",
              "      <td>566.217304</td>\n",
              "    </tr>\n",
              "    <tr>\n",
              "      <th>499</th>\n",
              "      <td>28.957736</td>\n",
              "      <td>655.660388</td>\n",
              "    </tr>\n",
              "  </tbody>\n",
              "</table>\n",
              "<p>500 rows × 2 columns</p>\n",
              "</div>"
            ],
            "text/plain": [
              "     Temperature     Revenue\n",
              "0      24.566884  534.799028\n",
              "1      26.005191  625.190122\n",
              "2      27.790554  660.632289\n",
              "3      20.595335  487.706960\n",
              "4      11.503498  316.240194\n",
              "..           ...         ...\n",
              "495    22.274899  524.746364\n",
              "496    32.893092  755.818399\n",
              "497    12.588157  306.090719\n",
              "498    22.362402  566.217304\n",
              "499    28.957736  655.660388\n",
              "\n",
              "[500 rows x 2 columns]"
            ]
          },
          "metadata": {
            "tags": []
          },
          "execution_count": 5
        }
      ]
    },
    {
      "cell_type": "code",
      "metadata": {
        "id": "E7puy9-xxS4A",
        "colab": {
          "base_uri": "https://localhost:8080/",
          "height": 204
        },
        "outputId": "22bb0a89-aa68-4377-fb25-2f96c9583844"
      },
      "source": [
        "sales_df.head(5)"
      ],
      "execution_count": 6,
      "outputs": [
        {
          "output_type": "execute_result",
          "data": {
            "text/html": [
              "<div>\n",
              "<style scoped>\n",
              "    .dataframe tbody tr th:only-of-type {\n",
              "        vertical-align: middle;\n",
              "    }\n",
              "\n",
              "    .dataframe tbody tr th {\n",
              "        vertical-align: top;\n",
              "    }\n",
              "\n",
              "    .dataframe thead th {\n",
              "        text-align: right;\n",
              "    }\n",
              "</style>\n",
              "<table border=\"1\" class=\"dataframe\">\n",
              "  <thead>\n",
              "    <tr style=\"text-align: right;\">\n",
              "      <th></th>\n",
              "      <th>Temperature</th>\n",
              "      <th>Revenue</th>\n",
              "    </tr>\n",
              "  </thead>\n",
              "  <tbody>\n",
              "    <tr>\n",
              "      <th>0</th>\n",
              "      <td>24.566884</td>\n",
              "      <td>534.799028</td>\n",
              "    </tr>\n",
              "    <tr>\n",
              "      <th>1</th>\n",
              "      <td>26.005191</td>\n",
              "      <td>625.190122</td>\n",
              "    </tr>\n",
              "    <tr>\n",
              "      <th>2</th>\n",
              "      <td>27.790554</td>\n",
              "      <td>660.632289</td>\n",
              "    </tr>\n",
              "    <tr>\n",
              "      <th>3</th>\n",
              "      <td>20.595335</td>\n",
              "      <td>487.706960</td>\n",
              "    </tr>\n",
              "    <tr>\n",
              "      <th>4</th>\n",
              "      <td>11.503498</td>\n",
              "      <td>316.240194</td>\n",
              "    </tr>\n",
              "  </tbody>\n",
              "</table>\n",
              "</div>"
            ],
            "text/plain": [
              "   Temperature     Revenue\n",
              "0    24.566884  534.799028\n",
              "1    26.005191  625.190122\n",
              "2    27.790554  660.632289\n",
              "3    20.595335  487.706960\n",
              "4    11.503498  316.240194"
            ]
          },
          "metadata": {
            "tags": []
          },
          "execution_count": 6
        }
      ]
    },
    {
      "cell_type": "code",
      "metadata": {
        "id": "RUt2ON_UxyYk",
        "colab": {
          "base_uri": "https://localhost:8080/",
          "height": 359
        },
        "outputId": "016ca0b3-f9c6-41e5-98a5-29d6ec1bd0e0"
      },
      "source": [
        "sales_df.tail(10)"
      ],
      "execution_count": 7,
      "outputs": [
        {
          "output_type": "execute_result",
          "data": {
            "text/html": [
              "<div>\n",
              "<style scoped>\n",
              "    .dataframe tbody tr th:only-of-type {\n",
              "        vertical-align: middle;\n",
              "    }\n",
              "\n",
              "    .dataframe tbody tr th {\n",
              "        vertical-align: top;\n",
              "    }\n",
              "\n",
              "    .dataframe thead th {\n",
              "        text-align: right;\n",
              "    }\n",
              "</style>\n",
              "<table border=\"1\" class=\"dataframe\">\n",
              "  <thead>\n",
              "    <tr style=\"text-align: right;\">\n",
              "      <th></th>\n",
              "      <th>Temperature</th>\n",
              "      <th>Revenue</th>\n",
              "    </tr>\n",
              "  </thead>\n",
              "  <tbody>\n",
              "    <tr>\n",
              "      <th>490</th>\n",
              "      <td>23.824922</td>\n",
              "      <td>584.399945</td>\n",
              "    </tr>\n",
              "    <tr>\n",
              "      <th>491</th>\n",
              "      <td>34.472169</td>\n",
              "      <td>809.352520</td>\n",
              "    </tr>\n",
              "    <tr>\n",
              "      <th>492</th>\n",
              "      <td>23.056214</td>\n",
              "      <td>552.819351</td>\n",
              "    </tr>\n",
              "    <tr>\n",
              "      <th>493</th>\n",
              "      <td>14.931506</td>\n",
              "      <td>377.430928</td>\n",
              "    </tr>\n",
              "    <tr>\n",
              "      <th>494</th>\n",
              "      <td>25.112066</td>\n",
              "      <td>571.434257</td>\n",
              "    </tr>\n",
              "    <tr>\n",
              "      <th>495</th>\n",
              "      <td>22.274899</td>\n",
              "      <td>524.746364</td>\n",
              "    </tr>\n",
              "    <tr>\n",
              "      <th>496</th>\n",
              "      <td>32.893092</td>\n",
              "      <td>755.818399</td>\n",
              "    </tr>\n",
              "    <tr>\n",
              "      <th>497</th>\n",
              "      <td>12.588157</td>\n",
              "      <td>306.090719</td>\n",
              "    </tr>\n",
              "    <tr>\n",
              "      <th>498</th>\n",
              "      <td>22.362402</td>\n",
              "      <td>566.217304</td>\n",
              "    </tr>\n",
              "    <tr>\n",
              "      <th>499</th>\n",
              "      <td>28.957736</td>\n",
              "      <td>655.660388</td>\n",
              "    </tr>\n",
              "  </tbody>\n",
              "</table>\n",
              "</div>"
            ],
            "text/plain": [
              "     Temperature     Revenue\n",
              "490    23.824922  584.399945\n",
              "491    34.472169  809.352520\n",
              "492    23.056214  552.819351\n",
              "493    14.931506  377.430928\n",
              "494    25.112066  571.434257\n",
              "495    22.274899  524.746364\n",
              "496    32.893092  755.818399\n",
              "497    12.588157  306.090719\n",
              "498    22.362402  566.217304\n",
              "499    28.957736  655.660388"
            ]
          },
          "metadata": {
            "tags": []
          },
          "execution_count": 7
        }
      ]
    },
    {
      "cell_type": "code",
      "metadata": {
        "id": "hMq3-KWOx0e1",
        "colab": {
          "base_uri": "https://localhost:8080/"
        },
        "outputId": "ed4e6533-b788-4d96-f42b-88788ae77483"
      },
      "source": [
        "sales_df.info()"
      ],
      "execution_count": 8,
      "outputs": [
        {
          "output_type": "stream",
          "text": [
            "<class 'pandas.core.frame.DataFrame'>\n",
            "RangeIndex: 500 entries, 0 to 499\n",
            "Data columns (total 2 columns):\n",
            " #   Column       Non-Null Count  Dtype  \n",
            "---  ------       --------------  -----  \n",
            " 0   Temperature  500 non-null    float64\n",
            " 1   Revenue      500 non-null    float64\n",
            "dtypes: float64(2)\n",
            "memory usage: 7.9 KB\n"
          ],
          "name": "stdout"
        }
      ]
    },
    {
      "cell_type": "code",
      "metadata": {
        "id": "s0E9xPLdx2Ok",
        "colab": {
          "base_uri": "https://localhost:8080/",
          "height": 297
        },
        "outputId": "fdc1efc5-319f-4610-ad98-8c97ecd1000e"
      },
      "source": [
        "sales_df.describe()"
      ],
      "execution_count": 9,
      "outputs": [
        {
          "output_type": "execute_result",
          "data": {
            "text/html": [
              "<div>\n",
              "<style scoped>\n",
              "    .dataframe tbody tr th:only-of-type {\n",
              "        vertical-align: middle;\n",
              "    }\n",
              "\n",
              "    .dataframe tbody tr th {\n",
              "        vertical-align: top;\n",
              "    }\n",
              "\n",
              "    .dataframe thead th {\n",
              "        text-align: right;\n",
              "    }\n",
              "</style>\n",
              "<table border=\"1\" class=\"dataframe\">\n",
              "  <thead>\n",
              "    <tr style=\"text-align: right;\">\n",
              "      <th></th>\n",
              "      <th>Temperature</th>\n",
              "      <th>Revenue</th>\n",
              "    </tr>\n",
              "  </thead>\n",
              "  <tbody>\n",
              "    <tr>\n",
              "      <th>count</th>\n",
              "      <td>500.000000</td>\n",
              "      <td>500.000000</td>\n",
              "    </tr>\n",
              "    <tr>\n",
              "      <th>mean</th>\n",
              "      <td>22.232225</td>\n",
              "      <td>521.570777</td>\n",
              "    </tr>\n",
              "    <tr>\n",
              "      <th>std</th>\n",
              "      <td>8.096388</td>\n",
              "      <td>175.404751</td>\n",
              "    </tr>\n",
              "    <tr>\n",
              "      <th>min</th>\n",
              "      <td>0.000000</td>\n",
              "      <td>10.000000</td>\n",
              "    </tr>\n",
              "    <tr>\n",
              "      <th>25%</th>\n",
              "      <td>17.122258</td>\n",
              "      <td>405.558681</td>\n",
              "    </tr>\n",
              "    <tr>\n",
              "      <th>50%</th>\n",
              "      <td>22.392791</td>\n",
              "      <td>529.368565</td>\n",
              "    </tr>\n",
              "    <tr>\n",
              "      <th>75%</th>\n",
              "      <td>27.740674</td>\n",
              "      <td>642.257922</td>\n",
              "    </tr>\n",
              "    <tr>\n",
              "      <th>max</th>\n",
              "      <td>45.000000</td>\n",
              "      <td>1000.000000</td>\n",
              "    </tr>\n",
              "  </tbody>\n",
              "</table>\n",
              "</div>"
            ],
            "text/plain": [
              "       Temperature      Revenue\n",
              "count   500.000000   500.000000\n",
              "mean     22.232225   521.570777\n",
              "std       8.096388   175.404751\n",
              "min       0.000000    10.000000\n",
              "25%      17.122258   405.558681\n",
              "50%      22.392791   529.368565\n",
              "75%      27.740674   642.257922\n",
              "max      45.000000  1000.000000"
            ]
          },
          "metadata": {
            "tags": []
          },
          "execution_count": 9
        }
      ]
    },
    {
      "cell_type": "markdown",
      "metadata": {
        "id": "LlszUhNNyrl_"
      },
      "source": [
        "# STEP #2: VISUALIZE DATASET"
      ]
    },
    {
      "cell_type": "code",
      "metadata": {
        "id": "TYcWopZVyvAs",
        "colab": {
          "base_uri": "https://localhost:8080/",
          "height": 350
        },
        "outputId": "0e4027d2-df1e-4fcf-b8be-27f776293029"
      },
      "source": [
        "sns.scatterplot(sales_df['Temperature'], sales_df['Revenue'])"
      ],
      "execution_count": 10,
      "outputs": [
        {
          "output_type": "stream",
          "text": [
            "/usr/local/lib/python3.6/dist-packages/seaborn/_decorators.py:43: FutureWarning: Pass the following variables as keyword args: x, y. From version 0.12, the only valid positional argument will be `data`, and passing other arguments without an explicit keyword will result in an error or misinterpretation.\n",
            "  FutureWarning\n"
          ],
          "name": "stderr"
        },
        {
          "output_type": "execute_result",
          "data": {
            "text/plain": [
              "<matplotlib.axes._subplots.AxesSubplot at 0x7f391bf23400>"
            ]
          },
          "metadata": {
            "tags": []
          },
          "execution_count": 10
        },
        {
          "output_type": "display_data",
          "data": {
            "image/png": "[encoded data removed]",
            "text/plain": [
              "<Figure size 432x288 with 1 Axes>"
            ]
          },
          "metadata": {
            "tags": [],
            "needs_background": "light"
          }
        }
      ]
    },
    {
      "cell_type": "markdown",
      "metadata": {
        "id": "Y0GmpAjG3GiH"
      },
      "source": [
        "# STEP #3: CREATE TESTING AND TRAINING DATASET"
      ]
    },
    {
      "cell_type": "code",
      "metadata": {
        "id": "0-maV8hb9rYM"
      },
      "source": [
        "X_train = sales_df['Temperature']\n",
        "y_train = sales_df['Revenue']"
      ],
      "execution_count": 11,
      "outputs": []
    },
    {
      "cell_type": "markdown",
      "metadata": {
        "id": "53qDZFRn3-S1"
      },
      "source": [
        "# STEP#4: BUILD AND TRAIN THE MODEL"
      ]
    },
    {
      "cell_type": "code",
      "metadata": {
        "id": "DqIp8uvJ3cGi",
        "colab": {
          "base_uri": "https://localhost:8080/"
        },
        "outputId": "afc575c5-cf98-4622-8ece-972e3eaf88f7"
      },
      "source": [
        "X_train.shape"
      ],
      "execution_count": 12,
      "outputs": [
        {
          "output_type": "execute_result",
          "data": {
            "text/plain": [
              "(500,)"
            ]
          },
          "metadata": {
            "tags": []
          },
          "execution_count": 12
        }
      ]
    },
    {
      "cell_type": "code",
      "metadata": {
        "id": "d4wfApza3cEc",
        "colab": {
          "base_uri": "https://localhost:8080/"
        },
        "outputId": "5d28a34f-ea0d-478b-da71-cbf215d028fa"
      },
      "source": [
        "y_train.shape"
      ],
      "execution_count": 13,
      "outputs": [
        {
          "output_type": "execute_result",
          "data": {
            "text/plain": [
              "(500,)"
            ]
          },
          "metadata": {
            "tags": []
          },
          "execution_count": 13
        }
      ]
    },
    {
      "cell_type": "code",
      "metadata": {
        "id": "Yl6fmPJj3cCX"
      },
      "source": [
        "model = tf.keras.Sequential()\n",
        "model.add(tf.keras.layers.Dense(units = 1, input_shape = [1]))"
      ],
      "execution_count": 22,
      "outputs": []
    },
    {
      "cell_type": "code",
      "metadata": {
        "id": "GUd71odB4v-i",
        "colab": {
          "base_uri": "https://localhost:8080/"
        },
        "outputId": "508815fa-ae2f-4d6b-8fe8-75913abe563e"
      },
      "source": [
        "model.summary()"
      ],
      "execution_count": 23,
      "outputs": [
        {
          "output_type": "stream",
          "text": [
            "Model: \"sequential_2\"\n",
            "_________________________________________________________________\n",
            "Layer (type)                 Output Shape              Param #   \n",
            "=================================================================\n",
            "dense_2 (Dense)              (None, 1)                 2         \n",
            "=================================================================\n",
            "Total params: 2\n",
            "Trainable params: 2\n",
            "Non-trainable params: 0\n",
            "_________________________________________________________________\n"
          ],
          "name": "stdout"
        }
      ]
    },
    {
      "cell_type": "code",
      "metadata": {
        "id": "BYmvNpNw5Act"
      },
      "source": [
        "model.compile(optimizer=tf.keras.optimizers.Adam(0.1), loss = 'mean_squared_error')"
      ],
      "execution_count": 24,
      "outputs": []
    },
    {
      "cell_type": "code",
      "metadata": {
        "id": "tpia0VBS5Ljw",
        "colab": {
          "base_uri": "https://localhost:8080/"
        },
        "outputId": "ad61126a-6cf2-4656-fad8-1fbed3d03273"
      },
      "source": [
        "epochs_hist = model.fit(X_train, y_train, epochs = 500)"
      ],
      "execution_count": 25,
      "outputs": [
        {
          "output_type": "stream",
          "text": [
            "Epoch 1/500\n",
            "16/16 [==============================] - 0s 2ms/step - loss: 280161.3125\n",
            "Epoch 2/500\n",
            "16/16 [==============================] - 0s 2ms/step - loss: 240637.0156\n",
            "Epoch 3/500\n",
            "16/16 [==============================] - 0s 2ms/step - loss: 205134.2656\n",
            "Epoch 4/500\n",
            "16/16 [==============================] - 0s 2ms/step - loss: 173469.8750\n",
            "Epoch 5/500\n",
            "16/16 [==============================] - 0s 2ms/step - loss: 145783.9531\n",
            "Epoch 6/500\n",
            "16/16 [==============================] - 0s 2ms/step - loss: 121649.3203\n",
            "Epoch 7/500\n",
            "16/16 [==============================] - 0s 2ms/step - loss: 100762.8516\n",
            "Epoch 8/500\n",
            "16/16 [==============================] - 0s 2ms/step - loss: 83096.0547\n",
            "Epoch 9/500\n",
            "16/16 [==============================] - 0s 2ms/step - loss: 67689.2344\n",
            "Epoch 10/500\n",
            "16/16 [==============================] - 0s 2ms/step - loss: 54866.1250\n",
            "Epoch 11/500\n",
            "16/16 [==============================] - 0s 2ms/step - loss: 44206.6719\n",
            "Epoch 12/500\n",
            "16/16 [==============================] - 0s 2ms/step - loss: 35300.8320\n",
            "Epoch 13/500\n",
            "16/16 [==============================] - 0s 2ms/step - loss: 27889.1875\n",
            "Epoch 14/500\n",
            "16/16 [==============================] - 0s 2ms/step - loss: 22040.3926\n",
            "Epoch 15/500\n",
            "16/16 [==============================] - 0s 2ms/step - loss: 17142.2656\n",
            "Epoch 16/500\n",
            "16/16 [==============================] - 0s 2ms/step - loss: 13303.5352\n",
            "Epoch 17/500\n",
            "16/16 [==============================] - 0s 2ms/step - loss: 10267.8682\n",
            "Epoch 18/500\n",
            "16/16 [==============================] - 0s 2ms/step - loss: 7892.0796\n",
            "Epoch 19/500\n",
            "16/16 [==============================] - 0s 2ms/step - loss: 6056.9604\n",
            "Epoch 20/500\n",
            "16/16 [==============================] - 0s 2ms/step - loss: 4659.9766\n",
            "Epoch 21/500\n",
            "16/16 [==============================] - 0s 2ms/step - loss: 3579.9084\n",
            "Epoch 22/500\n",
            "16/16 [==============================] - 0s 2ms/step - loss: 2774.6360\n",
            "Epoch 23/500\n",
            "16/16 [==============================] - 0s 2ms/step - loss: 2188.5437\n",
            "Epoch 24/500\n",
            "16/16 [==============================] - 0s 2ms/step - loss: 1749.4839\n",
            "Epoch 25/500\n",
            "16/16 [==============================] - 0s 2ms/step - loss: 1434.9464\n",
            "Epoch 26/500\n",
            "16/16 [==============================] - 0s 2ms/step - loss: 1204.3112\n",
            "Epoch 27/500\n",
            "16/16 [==============================] - 0s 2ms/step - loss: 1043.4624\n",
            "Epoch 28/500\n",
            "16/16 [==============================] - 0s 2ms/step - loss: 926.8060\n",
            "Epoch 29/500\n",
            "16/16 [==============================] - 0s 2ms/step - loss: 847.0429\n",
            "Epoch 30/500\n",
            "16/16 [==============================] - 0s 2ms/step - loss: 792.4022\n",
            "Epoch 31/500\n",
            "16/16 [==============================] - 0s 2ms/step - loss: 755.5410\n",
            "Epoch 32/500\n",
            "16/16 [==============================] - 0s 2ms/step - loss: 729.2045\n",
            "Epoch 33/500\n",
            "16/16 [==============================] - 0s 2ms/step - loss: 711.4769\n",
            "Epoch 34/500\n",
            "16/16 [==============================] - 0s 2ms/step - loss: 700.4892\n",
            "Epoch 35/500\n",
            "16/16 [==============================] - 0s 2ms/step - loss: 693.3904\n",
            "Epoch 36/500\n",
            "16/16 [==============================] - 0s 2ms/step - loss: 688.1675\n",
            "Epoch 37/500\n",
            "16/16 [==============================] - 0s 2ms/step - loss: 685.1332\n",
            "Epoch 38/500\n",
            "16/16 [==============================] - 0s 2ms/step - loss: 683.3046\n",
            "Epoch 39/500\n",
            "16/16 [==============================] - 0s 2ms/step - loss: 681.8632\n",
            "Epoch 40/500\n",
            "16/16 [==============================] - 0s 2ms/step - loss: 680.9692\n",
            "Epoch 41/500\n",
            "16/16 [==============================] - 0s 2ms/step - loss: 680.6150\n",
            "Epoch 42/500\n",
            "16/16 [==============================] - 0s 2ms/step - loss: 680.2051\n",
            "Epoch 43/500\n",
            "16/16 [==============================] - 0s 2ms/step - loss: 680.1260\n",
            "Epoch 44/500\n",
            "16/16 [==============================] - 0s 2ms/step - loss: 679.7104\n",
            "Epoch 45/500\n",
            "16/16 [==============================] - 0s 2ms/step - loss: 679.5969\n",
            "Epoch 46/500\n",
            "16/16 [==============================] - 0s 2ms/step - loss: 679.5308\n",
            "Epoch 47/500\n",
            "16/16 [==============================] - 0s 2ms/step - loss: 679.2917\n",
            "Epoch 48/500\n",
            "16/16 [==============================] - 0s 2ms/step - loss: 679.2190\n",
            "Epoch 49/500\n",
            "16/16 [==============================] - 0s 2ms/step - loss: 678.9584\n",
            "Epoch 50/500\n",
            "16/16 [==============================] - 0s 2ms/step - loss: 679.0474\n",
            "Epoch 51/500\n",
            "16/16 [==============================] - 0s 2ms/step - loss: 678.7195\n",
            "Epoch 52/500\n",
            "16/16 [==============================] - 0s 2ms/step - loss: 678.8236\n",
            "Epoch 53/500\n",
            "16/16 [==============================] - 0s 2ms/step - loss: 678.6287\n",
            "Epoch 54/500\n",
            "16/16 [==============================] - 0s 2ms/step - loss: 678.3428\n",
            "Epoch 55/500\n",
            "16/16 [==============================] - 0s 2ms/step - loss: 678.3447\n",
            "Epoch 56/500\n",
            "16/16 [==============================] - 0s 2ms/step - loss: 678.0153\n",
            "Epoch 57/500\n",
            "16/16 [==============================] - 0s 2ms/step - loss: 677.9597\n",
            "Epoch 58/500\n",
            "16/16 [==============================] - 0s 2ms/step - loss: 678.3691\n",
            "Epoch 59/500\n",
            "16/16 [==============================] - 0s 2ms/step - loss: 677.6618\n",
            "Epoch 60/500\n",
            "16/16 [==============================] - 0s 2ms/step - loss: 677.4218\n",
            "Epoch 61/500\n",
            "16/16 [==============================] - 0s 2ms/step - loss: 677.2951\n",
            "Epoch 62/500\n",
            "16/16 [==============================] - 0s 2ms/step - loss: 677.2527\n",
            "Epoch 63/500\n",
            "16/16 [==============================] - 0s 2ms/step - loss: 677.1035\n",
            "Epoch 64/500\n",
            "16/16 [==============================] - 0s 2ms/step - loss: 676.8541\n",
            "Epoch 65/500\n",
            "16/16 [==============================] - 0s 2ms/step - loss: 677.0495\n",
            "Epoch 66/500\n",
            "16/16 [==============================] - 0s 2ms/step - loss: 676.5407\n",
            "Epoch 67/500\n",
            "16/16 [==============================] - 0s 2ms/step - loss: 676.3763\n",
            "Epoch 68/500\n",
            "16/16 [==============================] - 0s 2ms/step - loss: 676.3535\n",
            "Epoch 69/500\n",
            "16/16 [==============================] - 0s 2ms/step - loss: 676.0419\n",
            "Epoch 70/500\n",
            "16/16 [==============================] - 0s 2ms/step - loss: 675.8958\n",
            "Epoch 71/500\n",
            "16/16 [==============================] - 0s 2ms/step - loss: 675.6765\n",
            "Epoch 72/500\n",
            "16/16 [==============================] - 0s 2ms/step - loss: 675.5513\n",
            "Epoch 73/500\n",
            "16/16 [==============================] - 0s 2ms/step - loss: 675.3516\n",
            "Epoch 74/500\n",
            "16/16 [==============================] - 0s 2ms/step - loss: 675.0975\n",
            "Epoch 75/500\n",
            "16/16 [==============================] - 0s 2ms/step - loss: 675.0029\n",
            "Epoch 76/500\n",
            "16/16 [==============================] - 0s 2ms/step - loss: 674.7888\n",
            "Epoch 77/500\n",
            "16/16 [==============================] - 0s 2ms/step - loss: 674.9499\n",
            "Epoch 78/500\n",
            "16/16 [==============================] - 0s 2ms/step - loss: 674.5159\n",
            "Epoch 79/500\n",
            "16/16 [==============================] - 0s 2ms/step - loss: 674.5087\n",
            "Epoch 80/500\n",
            "16/16 [==============================] - 0s 2ms/step - loss: 673.9777\n",
            "Epoch 81/500\n",
            "16/16 [==============================] - 0s 2ms/step - loss: 673.9719\n",
            "Epoch 82/500\n",
            "16/16 [==============================] - 0s 2ms/step - loss: 673.8754\n",
            "Epoch 83/500\n",
            "16/16 [==============================] - 0s 2ms/step - loss: 673.5493\n",
            "Epoch 84/500\n",
            "16/16 [==============================] - 0s 2ms/step - loss: 673.5147\n",
            "Epoch 85/500\n",
            "16/16 [==============================] - 0s 2ms/step - loss: 673.1876\n",
            "Epoch 86/500\n",
            "16/16 [==============================] - 0s 2ms/step - loss: 672.9705\n",
            "Epoch 87/500\n",
            "16/16 [==============================] - 0s 2ms/step - loss: 673.0836\n",
            "Epoch 88/500\n",
            "16/16 [==============================] - 0s 2ms/step - loss: 672.5976\n",
            "Epoch 89/500\n",
            "16/16 [==============================] - 0s 2ms/step - loss: 672.8460\n",
            "Epoch 90/500\n",
            "16/16 [==============================] - 0s 2ms/step - loss: 672.2500\n",
            "Epoch 91/500\n",
            "16/16 [==============================] - 0s 2ms/step - loss: 672.1379\n",
            "Epoch 92/500\n",
            "16/16 [==============================] - 0s 2ms/step - loss: 671.9847\n",
            "Epoch 93/500\n",
            "16/16 [==============================] - 0s 2ms/step - loss: 671.6866\n",
            "Epoch 94/500\n",
            "16/16 [==============================] - 0s 2ms/step - loss: 671.4295\n",
            "Epoch 95/500\n",
            "16/16 [==============================] - 0s 2ms/step - loss: 671.3533\n",
            "Epoch 96/500\n",
            "16/16 [==============================] - 0s 2ms/step - loss: 671.2832\n",
            "Epoch 97/500\n",
            "16/16 [==============================] - 0s 2ms/step - loss: 670.8938\n",
            "Epoch 98/500\n",
            "16/16 [==============================] - 0s 2ms/step - loss: 670.7170\n",
            "Epoch 99/500\n",
            "16/16 [==============================] - 0s 2ms/step - loss: 670.4117\n",
            "Epoch 100/500\n",
            "16/16 [==============================] - 0s 2ms/step - loss: 670.4313\n",
            "Epoch 101/500\n",
            "16/16 [==============================] - 0s 2ms/step - loss: 670.0469\n",
            "Epoch 102/500\n",
            "16/16 [==============================] - 0s 2ms/step - loss: 669.7811\n",
            "Epoch 103/500\n",
            "16/16 [==============================] - 0s 2ms/step - loss: 669.5277\n",
            "Epoch 104/500\n",
            "16/16 [==============================] - 0s 2ms/step - loss: 669.4442\n",
            "Epoch 105/500\n",
            "16/16 [==============================] - 0s 2ms/step - loss: 669.0965\n",
            "Epoch 106/500\n",
            "16/16 [==============================] - 0s 2ms/step - loss: 669.0037\n",
            "Epoch 107/500\n",
            "16/16 [==============================] - 0s 2ms/step - loss: 668.7198\n",
            "Epoch 108/500\n",
            "16/16 [==============================] - 0s 2ms/step - loss: 669.1409\n",
            "Epoch 109/500\n",
            "16/16 [==============================] - 0s 2ms/step - loss: 668.2781\n",
            "Epoch 110/500\n",
            "16/16 [==============================] - 0s 2ms/step - loss: 668.1094\n",
            "Epoch 111/500\n",
            "16/16 [==============================] - 0s 2ms/step - loss: 667.9536\n",
            "Epoch 112/500\n",
            "16/16 [==============================] - 0s 2ms/step - loss: 667.6426\n",
            "Epoch 113/500\n",
            "16/16 [==============================] - 0s 2ms/step - loss: 667.4905\n",
            "Epoch 114/500\n",
            "16/16 [==============================] - 0s 2ms/step - loss: 667.2745\n",
            "Epoch 115/500\n",
            "16/16 [==============================] - 0s 2ms/step - loss: 667.1844\n",
            "Epoch 116/500\n",
            "16/16 [==============================] - 0s 2ms/step - loss: 666.8067\n",
            "Epoch 117/500\n",
            "16/16 [==============================] - 0s 2ms/step - loss: 666.5273\n",
            "Epoch 118/500\n",
            "16/16 [==============================] - 0s 2ms/step - loss: 666.3492\n",
            "Epoch 119/500\n",
            "16/16 [==============================] - 0s 2ms/step - loss: 666.1943\n",
            "Epoch 120/500\n",
            "16/16 [==============================] - 0s 2ms/step - loss: 665.9144\n",
            "Epoch 121/500\n",
            "16/16 [==============================] - 0s 2ms/step - loss: 665.8312\n",
            "Epoch 122/500\n",
            "16/16 [==============================] - 0s 2ms/step - loss: 665.8898\n",
            "Epoch 123/500\n",
            "16/16 [==============================] - 0s 2ms/step - loss: 665.4371\n",
            "Epoch 124/500\n",
            "16/16 [==============================] - 0s 2ms/step - loss: 665.0120\n",
            "Epoch 125/500\n",
            "16/16 [==============================] - 0s 2ms/step - loss: 665.2131\n",
            "Epoch 126/500\n",
            "16/16 [==============================] - 0s 2ms/step - loss: 664.3463\n",
            "Epoch 127/500\n",
            "16/16 [==============================] - 0s 2ms/step - loss: 664.9568\n",
            "Epoch 128/500\n",
            "16/16 [==============================] - 0s 2ms/step - loss: 664.0533\n",
            "Epoch 129/500\n",
            "16/16 [==============================] - 0s 2ms/step - loss: 663.8779\n",
            "Epoch 130/500\n",
            "16/16 [==============================] - 0s 2ms/step - loss: 663.8190\n",
            "Epoch 131/500\n",
            "16/16 [==============================] - 0s 2ms/step - loss: 663.3406\n",
            "Epoch 132/500\n",
            "16/16 [==============================] - 0s 2ms/step - loss: 663.1728\n",
            "Epoch 133/500\n",
            "16/16 [==============================] - 0s 2ms/step - loss: 663.0851\n",
            "Epoch 134/500\n",
            "16/16 [==============================] - 0s 2ms/step - loss: 662.5847\n",
            "Epoch 135/500\n",
            "16/16 [==============================] - 0s 2ms/step - loss: 662.3995\n",
            "Epoch 136/500\n",
            "16/16 [==============================] - 0s 2ms/step - loss: 662.3442\n",
            "Epoch 137/500\n",
            "16/16 [==============================] - 0s 2ms/step - loss: 662.2479\n",
            "Epoch 138/500\n",
            "16/16 [==============================] - 0s 2ms/step - loss: 661.8251\n",
            "Epoch 139/500\n",
            "16/16 [==============================] - 0s 2ms/step - loss: 661.6005\n",
            "Epoch 140/500\n",
            "16/16 [==============================] - 0s 2ms/step - loss: 661.1727\n",
            "Epoch 141/500\n",
            "16/16 [==============================] - 0s 2ms/step - loss: 660.7885\n",
            "Epoch 142/500\n",
            "16/16 [==============================] - 0s 2ms/step - loss: 660.7757\n",
            "Epoch 143/500\n",
            "16/16 [==============================] - 0s 2ms/step - loss: 660.3386\n",
            "Epoch 144/500\n",
            "16/16 [==============================] - 0s 2ms/step - loss: 660.5000\n",
            "Epoch 145/500\n",
            "16/16 [==============================] - 0s 2ms/step - loss: 660.2540\n",
            "Epoch 146/500\n",
            "16/16 [==============================] - 0s 2ms/step - loss: 660.1840\n",
            "Epoch 147/500\n",
            "16/16 [==============================] - 0s 2ms/step - loss: 659.5094\n",
            "Epoch 148/500\n",
            "16/16 [==============================] - 0s 2ms/step - loss: 659.2745\n",
            "Epoch 149/500\n",
            "16/16 [==============================] - 0s 2ms/step - loss: 658.8975\n",
            "Epoch 150/500\n",
            "16/16 [==============================] - 0s 2ms/step - loss: 658.7195\n",
            "Epoch 151/500\n",
            "16/16 [==============================] - 0s 2ms/step - loss: 658.5173\n",
            "Epoch 152/500\n",
            "16/16 [==============================] - 0s 2ms/step - loss: 658.3324\n",
            "Epoch 153/500\n",
            "16/16 [==============================] - 0s 2ms/step - loss: 657.9255\n",
            "Epoch 154/500\n",
            "16/16 [==============================] - 0s 2ms/step - loss: 657.6467\n",
            "Epoch 155/500\n",
            "16/16 [==============================] - 0s 2ms/step - loss: 657.7134\n",
            "Epoch 156/500\n",
            "16/16 [==============================] - 0s 2ms/step - loss: 657.5501\n",
            "Epoch 157/500\n",
            "16/16 [==============================] - 0s 2ms/step - loss: 657.0029\n",
            "Epoch 158/500\n",
            "16/16 [==============================] - 0s 2ms/step - loss: 656.8401\n",
            "Epoch 159/500\n",
            "16/16 [==============================] - 0s 2ms/step - loss: 656.3680\n",
            "Epoch 160/500\n",
            "16/16 [==============================] - 0s 2ms/step - loss: 656.9398\n",
            "Epoch 161/500\n",
            "16/16 [==============================] - 0s 2ms/step - loss: 656.2037\n",
            "Epoch 162/500\n",
            "16/16 [==============================] - 0s 2ms/step - loss: 655.8000\n",
            "Epoch 163/500\n",
            "16/16 [==============================] - 0s 2ms/step - loss: 655.6887\n",
            "Epoch 164/500\n",
            "16/16 [==============================] - 0s 2ms/step - loss: 655.1669\n",
            "Epoch 165/500\n",
            "16/16 [==============================] - 0s 2ms/step - loss: 655.0317\n",
            "Epoch 166/500\n",
            "16/16 [==============================] - 0s 2ms/step - loss: 654.9944\n",
            "Epoch 167/500\n",
            "16/16 [==============================] - 0s 2ms/step - loss: 654.7078\n",
            "Epoch 168/500\n",
            "16/16 [==============================] - 0s 2ms/step - loss: 654.5167\n",
            "Epoch 169/500\n",
            "16/16 [==============================] - 0s 2ms/step - loss: 654.3688\n",
            "Epoch 170/500\n",
            "16/16 [==============================] - 0s 2ms/step - loss: 653.9020\n",
            "Epoch 171/500\n",
            "16/16 [==============================] - 0s 2ms/step - loss: 653.5109\n",
            "Epoch 172/500\n",
            "16/16 [==============================] - 0s 2ms/step - loss: 653.7914\n",
            "Epoch 173/500\n",
            "16/16 [==============================] - 0s 2ms/step - loss: 652.8918\n",
            "Epoch 174/500\n",
            "16/16 [==============================] - 0s 2ms/step - loss: 652.9172\n",
            "Epoch 175/500\n",
            "16/16 [==============================] - 0s 2ms/step - loss: 652.8374\n",
            "Epoch 176/500\n",
            "16/16 [==============================] - 0s 2ms/step - loss: 652.2975\n",
            "Epoch 177/500\n",
            "16/16 [==============================] - 0s 2ms/step - loss: 652.8690\n",
            "Epoch 178/500\n",
            "16/16 [==============================] - 0s 2ms/step - loss: 652.1588\n",
            "Epoch 179/500\n",
            "16/16 [==============================] - 0s 2ms/step - loss: 651.3882\n",
            "Epoch 180/500\n",
            "16/16 [==============================] - 0s 2ms/step - loss: 651.4259\n",
            "Epoch 181/500\n",
            "16/16 [==============================] - 0s 2ms/step - loss: 650.9757\n",
            "Epoch 182/500\n",
            "16/16 [==============================] - 0s 2ms/step - loss: 650.9462\n",
            "Epoch 183/500\n",
            "16/16 [==============================] - 0s 2ms/step - loss: 650.5449\n",
            "Epoch 184/500\n",
            "16/16 [==============================] - 0s 2ms/step - loss: 650.3862\n",
            "Epoch 185/500\n",
            "16/16 [==============================] - 0s 2ms/step - loss: 650.0699\n",
            "Epoch 186/500\n",
            "16/16 [==============================] - 0s 2ms/step - loss: 649.7653\n",
            "Epoch 187/500\n",
            "16/16 [==============================] - 0s 2ms/step - loss: 649.4891\n",
            "Epoch 188/500\n",
            "16/16 [==============================] - 0s 2ms/step - loss: 649.4496\n",
            "Epoch 189/500\n",
            "16/16 [==============================] - 0s 2ms/step - loss: 649.8102\n",
            "Epoch 190/500\n",
            "16/16 [==============================] - 0s 2ms/step - loss: 648.6483\n",
            "Epoch 191/500\n",
            "16/16 [==============================] - 0s 2ms/step - loss: 649.4231\n",
            "Epoch 192/500\n",
            "16/16 [==============================] - 0s 2ms/step - loss: 648.1906\n",
            "Epoch 193/500\n",
            "16/16 [==============================] - 0s 2ms/step - loss: 648.1193\n",
            "Epoch 194/500\n",
            "16/16 [==============================] - 0s 2ms/step - loss: 647.8221\n",
            "Epoch 195/500\n",
            "16/16 [==============================] - 0s 2ms/step - loss: 647.7181\n",
            "Epoch 196/500\n",
            "16/16 [==============================] - 0s 2ms/step - loss: 647.7263\n",
            "Epoch 197/500\n",
            "16/16 [==============================] - 0s 2ms/step - loss: 647.5640\n",
            "Epoch 198/500\n",
            "16/16 [==============================] - 0s 2ms/step - loss: 647.1125\n",
            "Epoch 199/500\n",
            "16/16 [==============================] - 0s 2ms/step - loss: 646.4875\n",
            "Epoch 200/500\n",
            "16/16 [==============================] - 0s 2ms/step - loss: 646.1612\n",
            "Epoch 201/500\n",
            "16/16 [==============================] - 0s 2ms/step - loss: 646.2858\n",
            "Epoch 202/500\n",
            "16/16 [==============================] - 0s 2ms/step - loss: 645.7769\n",
            "Epoch 203/500\n",
            "16/16 [==============================] - 0s 2ms/step - loss: 645.7711\n",
            "Epoch 204/500\n",
            "16/16 [==============================] - 0s 2ms/step - loss: 646.2422\n",
            "Epoch 205/500\n",
            "16/16 [==============================] - 0s 2ms/step - loss: 644.9745\n",
            "Epoch 206/500\n",
            "16/16 [==============================] - 0s 2ms/step - loss: 646.1772\n",
            "Epoch 207/500\n",
            "16/16 [==============================] - 0s 2ms/step - loss: 645.6422\n",
            "Epoch 208/500\n",
            "16/16 [==============================] - 0s 2ms/step - loss: 644.4886\n",
            "Epoch 209/500\n",
            "16/16 [==============================] - 0s 2ms/step - loss: 644.0283\n",
            "Epoch 210/500\n",
            "16/16 [==============================] - 0s 2ms/step - loss: 644.0062\n",
            "Epoch 211/500\n",
            "16/16 [==============================] - 0s 2ms/step - loss: 644.1666\n",
            "Epoch 212/500\n",
            "16/16 [==============================] - 0s 2ms/step - loss: 643.6219\n",
            "Epoch 213/500\n",
            "16/16 [==============================] - 0s 2ms/step - loss: 644.3377\n",
            "Epoch 214/500\n",
            "16/16 [==============================] - 0s 2ms/step - loss: 643.4816\n",
            "Epoch 215/500\n",
            "16/16 [==============================] - 0s 2ms/step - loss: 642.8992\n",
            "Epoch 216/500\n",
            "16/16 [==============================] - 0s 2ms/step - loss: 644.3293\n",
            "Epoch 217/500\n",
            "16/16 [==============================] - 0s 2ms/step - loss: 642.5130\n",
            "Epoch 218/500\n",
            "16/16 [==============================] - 0s 2ms/step - loss: 642.4892\n",
            "Epoch 219/500\n",
            "16/16 [==============================] - 0s 2ms/step - loss: 641.4794\n",
            "Epoch 220/500\n",
            "16/16 [==============================] - 0s 2ms/step - loss: 642.0065\n",
            "Epoch 221/500\n",
            "16/16 [==============================] - 0s 2ms/step - loss: 641.2438\n",
            "Epoch 222/500\n",
            "16/16 [==============================] - 0s 2ms/step - loss: 641.5645\n",
            "Epoch 223/500\n",
            "16/16 [==============================] - 0s 2ms/step - loss: 641.4163\n",
            "Epoch 224/500\n",
            "16/16 [==============================] - 0s 2ms/step - loss: 641.4493\n",
            "Epoch 225/500\n",
            "16/16 [==============================] - 0s 2ms/step - loss: 641.1418\n",
            "Epoch 226/500\n",
            "16/16 [==============================] - 0s 2ms/step - loss: 640.5519\n",
            "Epoch 227/500\n",
            "16/16 [==============================] - 0s 2ms/step - loss: 639.9772\n",
            "Epoch 228/500\n",
            "16/16 [==============================] - 0s 2ms/step - loss: 640.4751\n",
            "Epoch 229/500\n",
            "16/16 [==============================] - 0s 2ms/step - loss: 639.9061\n",
            "Epoch 230/500\n",
            "16/16 [==============================] - 0s 2ms/step - loss: 640.1150\n",
            "Epoch 231/500\n",
            "16/16 [==============================] - 0s 2ms/step - loss: 640.4455\n",
            "Epoch 232/500\n",
            "16/16 [==============================] - 0s 2ms/step - loss: 639.0007\n",
            "Epoch 233/500\n",
            "16/16 [==============================] - 0s 2ms/step - loss: 639.4922\n",
            "Epoch 234/500\n",
            "16/16 [==============================] - 0s 2ms/step - loss: 639.6202\n",
            "Epoch 235/500\n",
            "16/16 [==============================] - 0s 2ms/step - loss: 638.3269\n",
            "Epoch 236/500\n",
            "16/16 [==============================] - 0s 2ms/step - loss: 638.0941\n",
            "Epoch 237/500\n",
            "16/16 [==============================] - 0s 2ms/step - loss: 637.8524\n",
            "Epoch 238/500\n",
            "16/16 [==============================] - 0s 2ms/step - loss: 637.7738\n",
            "Epoch 239/500\n",
            "16/16 [==============================] - 0s 2ms/step - loss: 637.5253\n",
            "Epoch 240/500\n",
            "16/16 [==============================] - 0s 2ms/step - loss: 637.4169\n",
            "Epoch 241/500\n",
            "16/16 [==============================] - 0s 2ms/step - loss: 637.9660\n",
            "Epoch 242/500\n",
            "16/16 [==============================] - 0s 2ms/step - loss: 638.1299\n",
            "Epoch 243/500\n",
            "16/16 [==============================] - 0s 2ms/step - loss: 636.8938\n",
            "Epoch 244/500\n",
            "16/16 [==============================] - 0s 2ms/step - loss: 638.7247\n",
            "Epoch 245/500\n",
            "16/16 [==============================] - 0s 2ms/step - loss: 635.6240\n",
            "Epoch 246/500\n",
            "16/16 [==============================] - 0s 2ms/step - loss: 636.4774\n",
            "Epoch 247/500\n",
            "16/16 [==============================] - 0s 2ms/step - loss: 636.2686\n",
            "Epoch 248/500\n",
            "16/16 [==============================] - 0s 2ms/step - loss: 635.5120\n",
            "Epoch 249/500\n",
            "16/16 [==============================] - 0s 2ms/step - loss: 636.8311\n",
            "Epoch 250/500\n",
            "16/16 [==============================] - 0s 2ms/step - loss: 635.6303\n",
            "Epoch 251/500\n",
            "16/16 [==============================] - 0s 2ms/step - loss: 635.8830\n",
            "Epoch 252/500\n",
            "16/16 [==============================] - 0s 2ms/step - loss: 635.5667\n",
            "Epoch 253/500\n",
            "16/16 [==============================] - 0s 2ms/step - loss: 635.1321\n",
            "Epoch 254/500\n",
            "16/16 [==============================] - 0s 2ms/step - loss: 634.4771\n",
            "Epoch 255/500\n",
            "16/16 [==============================] - 0s 2ms/step - loss: 635.3636\n",
            "Epoch 256/500\n",
            "16/16 [==============================] - 0s 2ms/step - loss: 634.4077\n",
            "Epoch 257/500\n",
            "16/16 [==============================] - 0s 2ms/step - loss: 636.4951\n",
            "Epoch 258/500\n",
            "16/16 [==============================] - 0s 2ms/step - loss: 634.3838\n",
            "Epoch 259/500\n",
            "16/16 [==============================] - 0s 2ms/step - loss: 634.0298\n",
            "Epoch 260/500\n",
            "16/16 [==============================] - 0s 3ms/step - loss: 633.8499\n",
            "Epoch 261/500\n",
            "16/16 [==============================] - 0s 2ms/step - loss: 633.1109\n",
            "Epoch 262/500\n",
            "16/16 [==============================] - 0s 2ms/step - loss: 633.5453\n",
            "Epoch 263/500\n",
            "16/16 [==============================] - 0s 2ms/step - loss: 633.5453\n",
            "Epoch 264/500\n",
            "16/16 [==============================] - 0s 2ms/step - loss: 633.4127\n",
            "Epoch 265/500\n",
            "16/16 [==============================] - 0s 2ms/step - loss: 633.1823\n",
            "Epoch 266/500\n",
            "16/16 [==============================] - 0s 2ms/step - loss: 632.9502\n",
            "Epoch 267/500\n",
            "16/16 [==============================] - 0s 2ms/step - loss: 633.6996\n",
            "Epoch 268/500\n",
            "16/16 [==============================] - 0s 2ms/step - loss: 632.8339\n",
            "Epoch 269/500\n",
            "16/16 [==============================] - 0s 2ms/step - loss: 634.3882\n",
            "Epoch 270/500\n",
            "16/16 [==============================] - 0s 2ms/step - loss: 631.5426\n",
            "Epoch 271/500\n",
            "16/16 [==============================] - 0s 2ms/step - loss: 632.3671\n",
            "Epoch 272/500\n",
            "16/16 [==============================] - 0s 2ms/step - loss: 632.1971\n",
            "Epoch 273/500\n",
            "16/16 [==============================] - 0s 2ms/step - loss: 631.8309\n",
            "Epoch 274/500\n",
            "16/16 [==============================] - 0s 2ms/step - loss: 631.2688\n",
            "Epoch 275/500\n",
            "16/16 [==============================] - 0s 2ms/step - loss: 631.2596\n",
            "Epoch 276/500\n",
            "16/16 [==============================] - 0s 2ms/step - loss: 632.4811\n",
            "Epoch 277/500\n",
            "16/16 [==============================] - 0s 2ms/step - loss: 633.6099\n",
            "Epoch 278/500\n",
            "16/16 [==============================] - 0s 2ms/step - loss: 631.9545\n",
            "Epoch 279/500\n",
            "16/16 [==============================] - 0s 3ms/step - loss: 631.4781\n",
            "Epoch 280/500\n",
            "16/16 [==============================] - 0s 2ms/step - loss: 630.5084\n",
            "Epoch 281/500\n",
            "16/16 [==============================] - 0s 2ms/step - loss: 630.1043\n",
            "Epoch 282/500\n",
            "16/16 [==============================] - 0s 2ms/step - loss: 631.1888\n",
            "Epoch 283/500\n",
            "16/16 [==============================] - 0s 2ms/step - loss: 631.3345\n",
            "Epoch 284/500\n",
            "16/16 [==============================] - 0s 2ms/step - loss: 630.5221\n",
            "Epoch 285/500\n",
            "16/16 [==============================] - 0s 2ms/step - loss: 630.5706\n",
            "Epoch 286/500\n",
            "16/16 [==============================] - 0s 2ms/step - loss: 630.7552\n",
            "Epoch 287/500\n",
            "16/16 [==============================] - 0s 2ms/step - loss: 629.5632\n",
            "Epoch 288/500\n",
            "16/16 [==============================] - 0s 2ms/step - loss: 629.8338\n",
            "Epoch 289/500\n",
            "16/16 [==============================] - 0s 2ms/step - loss: 629.0778\n",
            "Epoch 290/500\n",
            "16/16 [==============================] - 0s 2ms/step - loss: 630.6490\n",
            "Epoch 291/500\n",
            "16/16 [==============================] - 0s 2ms/step - loss: 631.5838\n",
            "Epoch 292/500\n",
            "16/16 [==============================] - 0s 2ms/step - loss: 630.7673\n",
            "Epoch 293/500\n",
            "16/16 [==============================] - 0s 2ms/step - loss: 630.1431\n",
            "Epoch 294/500\n",
            "16/16 [==============================] - 0s 2ms/step - loss: 629.4305\n",
            "Epoch 295/500\n",
            "16/16 [==============================] - 0s 2ms/step - loss: 629.6440\n",
            "Epoch 296/500\n",
            "16/16 [==============================] - 0s 2ms/step - loss: 629.3047\n",
            "Epoch 297/500\n",
            "16/16 [==============================] - 0s 2ms/step - loss: 628.8669\n",
            "Epoch 298/500\n",
            "16/16 [==============================] - 0s 2ms/step - loss: 629.2004\n",
            "Epoch 299/500\n",
            "16/16 [==============================] - 0s 2ms/step - loss: 628.6282\n",
            "Epoch 300/500\n",
            "16/16 [==============================] - 0s 2ms/step - loss: 628.2198\n",
            "Epoch 301/500\n",
            "16/16 [==============================] - 0s 2ms/step - loss: 627.8778\n",
            "Epoch 302/500\n",
            "16/16 [==============================] - 0s 2ms/step - loss: 628.1720\n",
            "Epoch 303/500\n",
            "16/16 [==============================] - 0s 2ms/step - loss: 628.1599\n",
            "Epoch 304/500\n",
            "16/16 [==============================] - 0s 2ms/step - loss: 628.5281\n",
            "Epoch 305/500\n",
            "16/16 [==============================] - 0s 2ms/step - loss: 627.8447\n",
            "Epoch 306/500\n",
            "16/16 [==============================] - 0s 2ms/step - loss: 627.6353\n",
            "Epoch 307/500\n",
            "16/16 [==============================] - 0s 2ms/step - loss: 628.2456\n",
            "Epoch 308/500\n",
            "16/16 [==============================] - 0s 2ms/step - loss: 627.4338\n",
            "Epoch 309/500\n",
            "16/16 [==============================] - 0s 2ms/step - loss: 626.9167\n",
            "Epoch 310/500\n",
            "16/16 [==============================] - 0s 2ms/step - loss: 627.4919\n",
            "Epoch 311/500\n",
            "16/16 [==============================] - 0s 2ms/step - loss: 626.8976\n",
            "Epoch 312/500\n",
            "16/16 [==============================] - 0s 2ms/step - loss: 627.4815\n",
            "Epoch 313/500\n",
            "16/16 [==============================] - 0s 2ms/step - loss: 628.2320\n",
            "Epoch 314/500\n",
            "16/16 [==============================] - 0s 2ms/step - loss: 627.1930\n",
            "Epoch 315/500\n",
            "16/16 [==============================] - 0s 2ms/step - loss: 626.6937\n",
            "Epoch 316/500\n",
            "16/16 [==============================] - 0s 2ms/step - loss: 626.9489\n",
            "Epoch 317/500\n",
            "16/16 [==============================] - 0s 2ms/step - loss: 626.8054\n",
            "Epoch 318/500\n",
            "16/16 [==============================] - 0s 2ms/step - loss: 626.4893\n",
            "Epoch 319/500\n",
            "16/16 [==============================] - 0s 2ms/step - loss: 626.9630\n",
            "Epoch 320/500\n",
            "16/16 [==============================] - 0s 2ms/step - loss: 628.8627\n",
            "Epoch 321/500\n",
            "16/16 [==============================] - 0s 2ms/step - loss: 627.6019\n",
            "Epoch 322/500\n",
            "16/16 [==============================] - 0s 2ms/step - loss: 629.7557\n",
            "Epoch 323/500\n",
            "16/16 [==============================] - 0s 2ms/step - loss: 625.4720\n",
            "Epoch 324/500\n",
            "16/16 [==============================] - 0s 2ms/step - loss: 628.2543\n",
            "Epoch 325/500\n",
            "16/16 [==============================] - 0s 2ms/step - loss: 627.5496\n",
            "Epoch 326/500\n",
            "16/16 [==============================] - 0s 2ms/step - loss: 627.0154\n",
            "Epoch 327/500\n",
            "16/16 [==============================] - 0s 2ms/step - loss: 627.7392\n",
            "Epoch 328/500\n",
            "16/16 [==============================] - 0s 2ms/step - loss: 626.5862\n",
            "Epoch 329/500\n",
            "16/16 [==============================] - 0s 2ms/step - loss: 626.3912\n",
            "Epoch 330/500\n",
            "16/16 [==============================] - 0s 2ms/step - loss: 626.2279\n",
            "Epoch 331/500\n",
            "16/16 [==============================] - 0s 2ms/step - loss: 631.8106\n",
            "Epoch 332/500\n",
            "16/16 [==============================] - 0s 2ms/step - loss: 629.9106\n",
            "Epoch 333/500\n",
            "16/16 [==============================] - 0s 2ms/step - loss: 624.9603\n",
            "Epoch 334/500\n",
            "16/16 [==============================] - 0s 2ms/step - loss: 627.4584\n",
            "Epoch 335/500\n",
            "16/16 [==============================] - 0s 2ms/step - loss: 625.8751\n",
            "Epoch 336/500\n",
            "16/16 [==============================] - 0s 2ms/step - loss: 627.6858\n",
            "Epoch 337/500\n",
            "16/16 [==============================] - 0s 2ms/step - loss: 625.7315\n",
            "Epoch 338/500\n",
            "16/16 [==============================] - 0s 2ms/step - loss: 630.9645\n",
            "Epoch 339/500\n",
            "16/16 [==============================] - 0s 2ms/step - loss: 630.7288\n",
            "Epoch 340/500\n",
            "16/16 [==============================] - 0s 2ms/step - loss: 625.9856\n",
            "Epoch 341/500\n",
            "16/16 [==============================] - 0s 2ms/step - loss: 625.4683\n",
            "Epoch 342/500\n",
            "16/16 [==============================] - 0s 2ms/step - loss: 625.4047\n",
            "Epoch 343/500\n",
            "16/16 [==============================] - 0s 2ms/step - loss: 625.9798\n",
            "Epoch 344/500\n",
            "16/16 [==============================] - 0s 2ms/step - loss: 624.9846\n",
            "Epoch 345/500\n",
            "16/16 [==============================] - 0s 2ms/step - loss: 626.1513\n",
            "Epoch 346/500\n",
            "16/16 [==============================] - 0s 2ms/step - loss: 625.0236\n",
            "Epoch 347/500\n",
            "16/16 [==============================] - 0s 2ms/step - loss: 625.9366\n",
            "Epoch 348/500\n",
            "16/16 [==============================] - 0s 2ms/step - loss: 624.4025\n",
            "Epoch 349/500\n",
            "16/16 [==============================] - 0s 2ms/step - loss: 625.6959\n",
            "Epoch 350/500\n",
            "16/16 [==============================] - 0s 2ms/step - loss: 625.1542\n",
            "Epoch 351/500\n",
            "16/16 [==============================] - 0s 2ms/step - loss: 624.8278\n",
            "Epoch 352/500\n",
            "16/16 [==============================] - 0s 2ms/step - loss: 627.3927\n",
            "Epoch 353/500\n",
            "16/16 [==============================] - 0s 2ms/step - loss: 625.9739\n",
            "Epoch 354/500\n",
            "16/16 [==============================] - 0s 2ms/step - loss: 625.2798\n",
            "Epoch 355/500\n",
            "16/16 [==============================] - 0s 2ms/step - loss: 624.8025\n",
            "Epoch 356/500\n",
            "16/16 [==============================] - 0s 2ms/step - loss: 624.2866\n",
            "Epoch 357/500\n",
            "16/16 [==============================] - 0s 2ms/step - loss: 624.6713\n",
            "Epoch 358/500\n",
            "16/16 [==============================] - 0s 2ms/step - loss: 626.9833\n",
            "Epoch 359/500\n",
            "16/16 [==============================] - 0s 2ms/step - loss: 623.4907\n",
            "Epoch 360/500\n",
            "16/16 [==============================] - 0s 2ms/step - loss: 627.5258\n",
            "Epoch 361/500\n",
            "16/16 [==============================] - 0s 2ms/step - loss: 625.9255\n",
            "Epoch 362/500\n",
            "16/16 [==============================] - 0s 2ms/step - loss: 627.0951\n",
            "Epoch 363/500\n",
            "16/16 [==============================] - 0s 2ms/step - loss: 626.7499\n",
            "Epoch 364/500\n",
            "16/16 [==============================] - 0s 2ms/step - loss: 626.2575\n",
            "Epoch 365/500\n",
            "16/16 [==============================] - 0s 2ms/step - loss: 625.8191\n",
            "Epoch 366/500\n",
            "16/16 [==============================] - 0s 2ms/step - loss: 625.0931\n",
            "Epoch 367/500\n",
            "16/16 [==============================] - 0s 2ms/step - loss: 624.1329\n",
            "Epoch 368/500\n",
            "16/16 [==============================] - 0s 2ms/step - loss: 625.0651\n",
            "Epoch 369/500\n",
            "16/16 [==============================] - 0s 2ms/step - loss: 629.2560\n",
            "Epoch 370/500\n",
            "16/16 [==============================] - 0s 2ms/step - loss: 624.2043\n",
            "Epoch 371/500\n",
            "16/16 [==============================] - 0s 2ms/step - loss: 625.6461\n",
            "Epoch 372/500\n",
            "16/16 [==============================] - 0s 2ms/step - loss: 624.2377\n",
            "Epoch 373/500\n",
            "16/16 [==============================] - 0s 2ms/step - loss: 624.5957\n",
            "Epoch 374/500\n",
            "16/16 [==============================] - 0s 2ms/step - loss: 624.8803\n",
            "Epoch 375/500\n",
            "16/16 [==============================] - 0s 2ms/step - loss: 628.1181\n",
            "Epoch 376/500\n",
            "16/16 [==============================] - 0s 2ms/step - loss: 627.7972\n",
            "Epoch 377/500\n",
            "16/16 [==============================] - 0s 2ms/step - loss: 629.7585\n",
            "Epoch 378/500\n",
            "16/16 [==============================] - 0s 2ms/step - loss: 627.5976\n",
            "Epoch 379/500\n",
            "16/16 [==============================] - 0s 2ms/step - loss: 627.7867\n",
            "Epoch 380/500\n",
            "16/16 [==============================] - 0s 2ms/step - loss: 624.0616\n",
            "Epoch 381/500\n",
            "16/16 [==============================] - 0s 2ms/step - loss: 624.4988\n",
            "Epoch 382/500\n",
            "16/16 [==============================] - 0s 2ms/step - loss: 625.1129\n",
            "Epoch 383/500\n",
            "16/16 [==============================] - 0s 2ms/step - loss: 626.0522\n",
            "Epoch 384/500\n",
            "16/16 [==============================] - 0s 2ms/step - loss: 625.0250\n",
            "Epoch 385/500\n",
            "16/16 [==============================] - 0s 2ms/step - loss: 627.1259\n",
            "Epoch 386/500\n",
            "16/16 [==============================] - 0s 2ms/step - loss: 624.6012\n",
            "Epoch 387/500\n",
            "16/16 [==============================] - 0s 2ms/step - loss: 623.5743\n",
            "Epoch 388/500\n",
            "16/16 [==============================] - 0s 2ms/step - loss: 626.7230\n",
            "Epoch 389/500\n",
            "16/16 [==============================] - 0s 2ms/step - loss: 624.7523\n",
            "Epoch 390/500\n",
            "16/16 [==============================] - 0s 2ms/step - loss: 628.7637\n",
            "Epoch 391/500\n",
            "16/16 [==============================] - 0s 2ms/step - loss: 627.0533\n",
            "Epoch 392/500\n",
            "16/16 [==============================] - 0s 2ms/step - loss: 627.3663\n",
            "Epoch 393/500\n",
            "16/16 [==============================] - 0s 2ms/step - loss: 623.6479\n",
            "Epoch 394/500\n",
            "16/16 [==============================] - 0s 2ms/step - loss: 626.0674\n",
            "Epoch 395/500\n",
            "16/16 [==============================] - 0s 2ms/step - loss: 624.6134\n",
            "Epoch 396/500\n",
            "16/16 [==============================] - 0s 2ms/step - loss: 627.8118\n",
            "Epoch 397/500\n",
            "16/16 [==============================] - 0s 2ms/step - loss: 625.0161\n",
            "Epoch 398/500\n",
            "16/16 [==============================] - 0s 2ms/step - loss: 625.4044\n",
            "Epoch 399/500\n",
            "16/16 [==============================] - 0s 2ms/step - loss: 625.0895\n",
            "Epoch 400/500\n",
            "16/16 [==============================] - 0s 2ms/step - loss: 624.9151\n",
            "Epoch 401/500\n",
            "16/16 [==============================] - 0s 2ms/step - loss: 624.6426\n",
            "Epoch 402/500\n",
            "16/16 [==============================] - 0s 2ms/step - loss: 624.4815\n",
            "Epoch 403/500\n",
            "16/16 [==============================] - 0s 2ms/step - loss: 627.2934\n",
            "Epoch 404/500\n",
            "16/16 [==============================] - 0s 2ms/step - loss: 625.8782\n",
            "Epoch 405/500\n",
            "16/16 [==============================] - 0s 2ms/step - loss: 626.2064\n",
            "Epoch 406/500\n",
            "16/16 [==============================] - 0s 2ms/step - loss: 627.7275\n",
            "Epoch 407/500\n",
            "16/16 [==============================] - 0s 2ms/step - loss: 631.1453\n",
            "Epoch 408/500\n",
            "16/16 [==============================] - 0s 2ms/step - loss: 625.3221\n",
            "Epoch 409/500\n",
            "16/16 [==============================] - 0s 2ms/step - loss: 628.5977\n",
            "Epoch 410/500\n",
            "16/16 [==============================] - 0s 2ms/step - loss: 626.3809\n",
            "Epoch 411/500\n",
            "16/16 [==============================] - 0s 2ms/step - loss: 627.7866\n",
            "Epoch 412/500\n",
            "16/16 [==============================] - 0s 2ms/step - loss: 624.6634\n",
            "Epoch 413/500\n",
            "16/16 [==============================] - 0s 2ms/step - loss: 626.3611\n",
            "Epoch 414/500\n",
            "16/16 [==============================] - 0s 2ms/step - loss: 623.5079\n",
            "Epoch 415/500\n",
            "16/16 [==============================] - 0s 2ms/step - loss: 624.9330\n",
            "Epoch 416/500\n",
            "16/16 [==============================] - 0s 2ms/step - loss: 626.4173\n",
            "Epoch 417/500\n",
            "16/16 [==============================] - 0s 2ms/step - loss: 625.5651\n",
            "Epoch 418/500\n",
            "16/16 [==============================] - 0s 2ms/step - loss: 633.3840\n",
            "Epoch 419/500\n",
            "16/16 [==============================] - 0s 2ms/step - loss: 625.2727\n",
            "Epoch 420/500\n",
            "16/16 [==============================] - 0s 2ms/step - loss: 624.0954\n",
            "Epoch 421/500\n",
            "16/16 [==============================] - 0s 2ms/step - loss: 624.4563\n",
            "Epoch 422/500\n",
            "16/16 [==============================] - 0s 2ms/step - loss: 624.7391\n",
            "Epoch 423/500\n",
            "16/16 [==============================] - 0s 3ms/step - loss: 626.8529\n",
            "Epoch 424/500\n",
            "16/16 [==============================] - 0s 2ms/step - loss: 625.7224\n",
            "Epoch 425/500\n",
            "16/16 [==============================] - 0s 2ms/step - loss: 624.9673\n",
            "Epoch 426/500\n",
            "16/16 [==============================] - 0s 2ms/step - loss: 626.7459\n",
            "Epoch 427/500\n",
            "16/16 [==============================] - 0s 2ms/step - loss: 625.5753\n",
            "Epoch 428/500\n",
            "16/16 [==============================] - 0s 2ms/step - loss: 624.9926\n",
            "Epoch 429/500\n",
            "16/16 [==============================] - 0s 2ms/step - loss: 623.4838\n",
            "Epoch 430/500\n",
            "16/16 [==============================] - 0s 2ms/step - loss: 625.7007\n",
            "Epoch 431/500\n",
            "16/16 [==============================] - 0s 2ms/step - loss: 625.1791\n",
            "Epoch 432/500\n",
            "16/16 [==============================] - 0s 2ms/step - loss: 626.8959\n",
            "Epoch 433/500\n",
            "16/16 [==============================] - 0s 2ms/step - loss: 627.0018\n",
            "Epoch 434/500\n",
            "16/16 [==============================] - 0s 2ms/step - loss: 623.4756\n",
            "Epoch 435/500\n",
            "16/16 [==============================] - 0s 2ms/step - loss: 625.8482\n",
            "Epoch 436/500\n",
            "16/16 [==============================] - 0s 2ms/step - loss: 626.6003\n",
            "Epoch 437/500\n",
            "16/16 [==============================] - 0s 2ms/step - loss: 625.5435\n",
            "Epoch 438/500\n",
            "16/16 [==============================] - 0s 2ms/step - loss: 627.5149\n",
            "Epoch 439/500\n",
            "16/16 [==============================] - 0s 2ms/step - loss: 629.3346\n",
            "Epoch 440/500\n",
            "16/16 [==============================] - 0s 2ms/step - loss: 626.1296\n",
            "Epoch 441/500\n",
            "16/16 [==============================] - 0s 2ms/step - loss: 634.3355\n",
            "Epoch 442/500\n",
            "16/16 [==============================] - 0s 2ms/step - loss: 628.9394\n",
            "Epoch 443/500\n",
            "16/16 [==============================] - 0s 2ms/step - loss: 626.6552\n",
            "Epoch 444/500\n",
            "16/16 [==============================] - 0s 2ms/step - loss: 626.8376\n",
            "Epoch 445/500\n",
            "16/16 [==============================] - 0s 2ms/step - loss: 624.0286\n",
            "Epoch 446/500\n",
            "16/16 [==============================] - 0s 2ms/step - loss: 626.4190\n",
            "Epoch 447/500\n",
            "16/16 [==============================] - 0s 2ms/step - loss: 624.8212\n",
            "Epoch 448/500\n",
            "16/16 [==============================] - 0s 2ms/step - loss: 626.2042\n",
            "Epoch 449/500\n",
            "16/16 [==============================] - 0s 2ms/step - loss: 625.6182\n",
            "Epoch 450/500\n",
            "16/16 [==============================] - 0s 2ms/step - loss: 623.4541\n",
            "Epoch 451/500\n",
            "16/16 [==============================] - 0s 2ms/step - loss: 624.6517\n",
            "Epoch 452/500\n",
            "16/16 [==============================] - 0s 2ms/step - loss: 627.9156\n",
            "Epoch 453/500\n",
            "16/16 [==============================] - 0s 2ms/step - loss: 624.0825\n",
            "Epoch 454/500\n",
            "16/16 [==============================] - 0s 2ms/step - loss: 625.9329\n",
            "Epoch 455/500\n",
            "16/16 [==============================] - 0s 2ms/step - loss: 626.3881\n",
            "Epoch 456/500\n",
            "16/16 [==============================] - 0s 2ms/step - loss: 631.2973\n",
            "Epoch 457/500\n",
            "16/16 [==============================] - 0s 2ms/step - loss: 625.2516\n",
            "Epoch 458/500\n",
            "16/16 [==============================] - 0s 2ms/step - loss: 625.3468\n",
            "Epoch 459/500\n",
            "16/16 [==============================] - 0s 2ms/step - loss: 631.7168\n",
            "Epoch 460/500\n",
            "16/16 [==============================] - 0s 2ms/step - loss: 624.2642\n",
            "Epoch 461/500\n",
            "16/16 [==============================] - 0s 2ms/step - loss: 626.5875\n",
            "Epoch 462/500\n",
            "16/16 [==============================] - 0s 2ms/step - loss: 627.4866\n",
            "Epoch 463/500\n",
            "16/16 [==============================] - 0s 2ms/step - loss: 628.8246\n",
            "Epoch 464/500\n",
            "16/16 [==============================] - 0s 2ms/step - loss: 629.3878\n",
            "Epoch 465/500\n",
            "16/16 [==============================] - 0s 2ms/step - loss: 633.8572\n",
            "Epoch 466/500\n",
            "16/16 [==============================] - 0s 2ms/step - loss: 625.8300\n",
            "Epoch 467/500\n",
            "16/16 [==============================] - 0s 2ms/step - loss: 627.8927\n",
            "Epoch 468/500\n",
            "16/16 [==============================] - 0s 2ms/step - loss: 624.5440\n",
            "Epoch 469/500\n",
            "16/16 [==============================] - 0s 2ms/step - loss: 625.7290\n",
            "Epoch 470/500\n",
            "16/16 [==============================] - 0s 2ms/step - loss: 623.9869\n",
            "Epoch 471/500\n",
            "16/16 [==============================] - 0s 2ms/step - loss: 626.6691\n",
            "Epoch 472/500\n",
            "16/16 [==============================] - 0s 2ms/step - loss: 632.3244\n",
            "Epoch 473/500\n",
            "16/16 [==============================] - 0s 2ms/step - loss: 626.6868\n",
            "Epoch 474/500\n",
            "16/16 [==============================] - 0s 2ms/step - loss: 628.7330\n",
            "Epoch 475/500\n",
            "16/16 [==============================] - 0s 2ms/step - loss: 628.5595\n",
            "Epoch 476/500\n",
            "16/16 [==============================] - 0s 2ms/step - loss: 632.5878\n",
            "Epoch 477/500\n",
            "16/16 [==============================] - 0s 2ms/step - loss: 624.4689\n",
            "Epoch 478/500\n",
            "16/16 [==============================] - 0s 2ms/step - loss: 625.8329\n",
            "Epoch 479/500\n",
            "16/16 [==============================] - 0s 2ms/step - loss: 625.5692\n",
            "Epoch 480/500\n",
            "16/16 [==============================] - 0s 2ms/step - loss: 627.3660\n",
            "Epoch 481/500\n",
            "16/16 [==============================] - 0s 2ms/step - loss: 627.7248\n",
            "Epoch 482/500\n",
            "16/16 [==============================] - 0s 2ms/step - loss: 628.7193\n",
            "Epoch 483/500\n",
            "16/16 [==============================] - 0s 2ms/step - loss: 630.0920\n",
            "Epoch 484/500\n",
            "16/16 [==============================] - 0s 2ms/step - loss: 625.8132\n",
            "Epoch 485/500\n",
            "16/16 [==============================] - 0s 2ms/step - loss: 626.3258\n",
            "Epoch 486/500\n",
            "16/16 [==============================] - 0s 2ms/step - loss: 624.8892\n",
            "Epoch 487/500\n",
            "16/16 [==============================] - 0s 2ms/step - loss: 626.1171\n",
            "Epoch 488/500\n",
            "16/16 [==============================] - 0s 2ms/step - loss: 627.0010\n",
            "Epoch 489/500\n",
            "16/16 [==============================] - 0s 2ms/step - loss: 624.3729\n",
            "Epoch 490/500\n",
            "16/16 [==============================] - 0s 2ms/step - loss: 627.8513\n",
            "Epoch 491/500\n",
            "16/16 [==============================] - 0s 2ms/step - loss: 640.5422\n",
            "Epoch 492/500\n",
            "16/16 [==============================] - 0s 2ms/step - loss: 628.0751\n",
            "Epoch 493/500\n",
            "16/16 [==============================] - 0s 2ms/step - loss: 626.3185\n",
            "Epoch 494/500\n",
            "16/16 [==============================] - 0s 2ms/step - loss: 628.0057\n",
            "Epoch 495/500\n",
            "16/16 [==============================] - 0s 2ms/step - loss: 632.3417\n",
            "Epoch 496/500\n",
            "16/16 [==============================] - 0s 2ms/step - loss: 628.1084\n",
            "Epoch 497/500\n",
            "16/16 [==============================] - 0s 3ms/step - loss: 628.4165\n",
            "Epoch 498/500\n",
            "16/16 [==============================] - 0s 2ms/step - loss: 624.6199\n",
            "Epoch 499/500\n",
            "16/16 [==============================] - 0s 2ms/step - loss: 626.3119\n",
            "Epoch 500/500\n",
            "16/16 [==============================] - 0s 2ms/step - loss: 626.1771\n"
          ],
          "name": "stdout"
        }
      ]
    },
    {
      "cell_type": "markdown",
      "metadata": {
        "id": "-wRQqOeB5Zh5"
      },
      "source": [
        "# STEP#5: EVALUATE THE MODEL "
      ]
    },
    {
      "cell_type": "code",
      "metadata": {
        "id": "dfUb63035TJL",
        "colab": {
          "base_uri": "https://localhost:8080/"
        },
        "outputId": "815b1237-a2c0-45b2-ad01-f3e6baa892a1"
      },
      "source": [
        "epochs_hist.history.keys()"
      ],
      "execution_count": 26,
      "outputs": [
        {
          "output_type": "execute_result",
          "data": {
            "text/plain": [
              "dict_keys(['loss'])"
            ]
          },
          "metadata": {
            "tags": []
          },
          "execution_count": 26
        }
      ]
    },
    {
      "cell_type": "code",
      "metadata": {
        "id": "eXiDop_l5erJ",
        "colab": {
          "base_uri": "https://localhost:8080/",
          "height": 312
        },
        "outputId": "34cd8cf8-ec7e-4d75-923b-e166afce54db"
      },
      "source": [
        "plt.plot(epochs_hist.history['loss'])\n",
        "plt.title('Model Loss Progress During Training')\n",
        "plt.xlabel('Epoch')\n",
        "plt.ylabel('Training Loss')\n",
        "plt.legend(['Training Loss'])"
      ],
      "execution_count": 27,
      "outputs": [
        {
          "output_type": "execute_result",
          "data": {
            "text/plain": [
              "<matplotlib.legend.Legend at 0x7f38be1f9668>"
            ]
          },
          "metadata": {
            "tags": []
          },
          "execution_count": 27
        },
        {
          "output_type": "display_data",
          "data": {
            "image/png": "[encoded data removed]",
            "text/plain": [
              "<Figure size 432x288 with 1 Axes>"
            ]
          },
          "metadata": {
            "tags": [],
            "needs_background": "light"
          }
        }
      ]
    },
    {
      "cell_type": "code",
      "metadata": {
        "id": "yFYpuUJWBn6L",
        "colab": {
          "base_uri": "https://localhost:8080/"
        },
        "outputId": "50e9dcac-9b8a-41f2-8262-86f74e67f1d8"
      },
      "source": [
        "model.get_weights()"
      ],
      "execution_count": 28,
      "outputs": [
        {
          "output_type": "execute_result",
          "data": {
            "text/plain": [
              "[array([[21.40993]], dtype=float32), array([44.779926], dtype=float32)]"
            ]
          },
          "metadata": {
            "tags": []
          },
          "execution_count": 28
        }
      ]
    },
    {
      "cell_type": "code",
      "metadata": {
        "id": "isfjfT735fjD",
        "colab": {
          "base_uri": "https://localhost:8080/"
        },
        "outputId": "65862788-2216-4382-a3bb-f72e9e59c1cb"
      },
      "source": [
        "# Use the trained model to perform predictions\n",
        "\n",
        "\n",
        "Temp = 5\n",
        "Revenue = model.predict([Temp])\n",
        "print('Revenue Predictions Using Trained ANN =', Revenue)\n"
      ],
      "execution_count": 29,
      "outputs": [
        {
          "output_type": "stream",
          "text": [
            "Revenue Predictions Using Trained ANN = [[151.82957]]\n"
          ],
          "name": "stdout"
        }
      ]
    },
    {
      "cell_type": "code",
      "metadata": {
        "id": "CnbDTixOaB-V",
        "colab": {
          "base_uri": "https://localhost:8080/",
          "height": 312
        },
        "outputId": "60c496a0-26f8-4625-cd62-e2616d8e4c52"
      },
      "source": [
        "plt.scatter(X_train, y_train, color = 'gray')\n",
        "plt.plot(X_train, model.predict(X_train), color = 'red')\n",
        "plt.ylabel('Revenue [dollars]')\n",
        "plt.xlabel('Temperature [degC]')\n",
        "plt.title('Revenue Generated vs. Temperature @Ice Cream Stand')"
      ],
      "execution_count": 30,
      "outputs": [
        {
          "output_type": "execute_result",
          "data": {
            "text/plain": [
              "Text(0.5, 1.0, 'Revenue Generated vs. Temperature @Ice Cream Stand')"
            ]
          },
          "metadata": {
            "tags": []
          },
          "execution_count": 30
        },
        {
          "output_type": "display_data",
          "data": {
            "image/png": "[encoded data removed]",
            "text/plain": [
              "<Figure size 432x288 with 1 Axes>"
            ]
          },
          "metadata": {
            "tags": [],
            "needs_background": "light"
          }
        }
      ]
    },
    {
      "cell_type": "markdown",
      "metadata": {
        "id": "_dXoZAtVcbfA"
      },
      "source": [
        "# STEP #6 (OPTIONAL): CONFIRM USING REGRESSION KIT IN SCIKIT LEARN!"
      ]
    },
    {
      "cell_type": "code",
      "metadata": {
        "id": "ybYof7hSdM5I"
      },
      "source": [
        "X_train = X_train.values.reshape(-1,1)"
      ],
      "execution_count": 31,
      "outputs": []
    },
    {
      "cell_type": "code",
      "metadata": {
        "id": "9L6vMQ6ddfSd",
        "colab": {
          "base_uri": "https://localhost:8080/"
        },
        "outputId": "5ca0e00a-766d-4e2e-b24c-12bcb0fbf477"
      },
      "source": [
        "X_train.shape"
      ],
      "execution_count": 32,
      "outputs": [
        {
          "output_type": "execute_result",
          "data": {
            "text/plain": [
              "(500, 1)"
            ]
          },
          "metadata": {
            "tags": []
          },
          "execution_count": 32
        }
      ]
    },
    {
      "cell_type": "code",
      "metadata": {
        "id": "c9Gy-mQ0dj0V"
      },
      "source": [
        "y_train = y_train.values.reshape(-1,1)"
      ],
      "execution_count": 33,
      "outputs": []
    },
    {
      "cell_type": "code",
      "metadata": {
        "id": "T93r6_HKdoMU",
        "colab": {
          "base_uri": "https://localhost:8080/"
        },
        "outputId": "19bd0370-1275-4eca-e870-f3e05571cd19"
      },
      "source": [
        "y_train.shape"
      ],
      "execution_count": 34,
      "outputs": [
        {
          "output_type": "execute_result",
          "data": {
            "text/plain": [
              "(500, 1)"
            ]
          },
          "metadata": {
            "tags": []
          },
          "execution_count": 34
        }
      ]
    },
    {
      "cell_type": "code",
      "metadata": {
        "id": "L5bpK-EWcW1b",
        "colab": {
          "base_uri": "https://localhost:8080/"
        },
        "outputId": "16f539f8-57f8-45af-c57c-2863dcddae97"
      },
      "source": [
        "from sklearn.linear_model import LinearRegression\n",
        "\n",
        "regressor = LinearRegression(fit_intercept = False)\n",
        "regressor.fit(X_train, y_train)"
      ],
      "execution_count": 35,
      "outputs": [
        {
          "output_type": "execute_result",
          "data": {
            "text/plain": [
              "LinearRegression(copy_X=True, fit_intercept=False, n_jobs=None, normalize=False)"
            ]
          },
          "metadata": {
            "tags": []
          },
          "execution_count": 35
        }
      ]
    },
    {
      "cell_type": "code",
      "metadata": {
        "id": "uUyzZYAHcrgs",
        "colab": {
          "base_uri": "https://localhost:8080/"
        },
        "outputId": "89cfc4f1-c98a-4c5a-92eb-caff3b8c6863"
      },
      "source": [
        "print('Linear Model Coeff(m)', regressor.coef_)\n",
        "print('Linear Model Coeff(b)', regressor.intercept_)"
      ],
      "execution_count": 36,
      "outputs": [
        {
          "output_type": "stream",
          "text": [
            "Linear Model Coeff(m) [[23.22442357]]\n",
            "Linear Model Coeff(b) 0.0\n"
          ],
          "name": "stdout"
        }
      ]
    },
    {
      "cell_type": "code",
      "metadata": {
        "id": "BQRkG80MdycN",
        "colab": {
          "base_uri": "https://localhost:8080/",
          "height": 312
        },
        "outputId": "35a72d28-b816-474d-aa82-e4b38159f056"
      },
      "source": [
        "plt.scatter(X_train, y_train, color = 'gray')\n",
        "plt.plot(X_train, regressor.predict(X_train), color = 'red')\n",
        "plt.ylabel('Revenue [dollars]')\n",
        "plt.xlabel('Temperature [degC]')\n",
        "plt.title('Revenue Generated vs. Temperature @Ice Cream Stand')"
      ],
      "execution_count": 37,
      "outputs": [
        {
          "output_type": "execute_result",
          "data": {
            "text/plain": [
              "Text(0.5, 1.0, 'Revenue Generated vs. Temperature @Ice Cream Stand')"
            ]
          },
          "metadata": {
            "tags": []
          },
          "execution_count": 37
        },
        {
          "output_type": "display_data",
          "data": {
            "image/png": "[encoded data removed]",
            "text/plain": [
              "<Figure size 432x288 with 1 Axes>"
            ]
          },
          "metadata": {
            "tags": [],
            "needs_background": "light"
          }
        }
      ]
    }
  ]
}