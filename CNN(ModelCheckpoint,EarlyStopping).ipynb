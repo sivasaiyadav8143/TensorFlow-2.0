{
  "nbformat": 4,
  "nbformat_minor": 0,
  "metadata": {
    "colab": {
      "name": "CNN(ModelCheckpoint,EarlyStopping).ipynb",
      "provenance": [],
      "collapsed_sections": [],
      "include_colab_link": true
    },
    "kernelspec": {
      "name": "python2",
      "display_name": "Python 2"
    },
    "accelerator": "GPU"
  },
  "cells": [
    {
      "cell_type": "markdown",
      "metadata": {
        "id": "view-in-github",
        "colab_type": "text"
      },
      "source": [
        "<a href=\"https://colab.research.google.com/github/sivasaiyadav8143/TensorFlow-2.x/blob/main/CNN(ModelCheckpoint%2CEarlyStopping).ipynb\" target=\"_parent\"><img src=\"https://colab.research.google.com/assets/colab-badge.svg\" alt=\"Open In Colab\"/></a>"
      ]
    },
    {
      "cell_type": "markdown",
      "metadata": {
        "id": "GTQlTR2Scks4"
      },
      "source": [
        "# Importing Keras Modules\n"
      ]
    },
    {
      "cell_type": "code",
      "metadata": {
        "id": "1ve46hnH315r",
        "colab": {
          "base_uri": "https://localhost:8080/",
          "height": 225
        },
        "outputId": "57e8a3c6-2a8c-41d0-c517-1c29b8654bbc"
      },
      "source": [
        "#Importing important modules\n",
        "import keras\n",
        "from keras.datasets import mnist\n",
        "from keras.models import Sequential\n",
        "from keras.layers import Dense, Dropout, Flatten\n",
        "from keras.layers import Conv2D, MaxPooling2D\n",
        "from keras.callbacks import ModelCheckpoint, EarlyStopping\n",
        "#Installing Tensorboard\n",
        "!pip install Tensorboard"
      ],
      "execution_count": null,
      "outputs": [
        {
          "output_type": "stream",
          "text": [
            "Using TensorFlow backend.\n"
          ],
          "name": "stderr"
        },
        {
          "output_type": "stream",
          "text": [
            "Requirement already satisfied: Tensorboard in /usr/local/lib/python2.7/dist-packages (1.12.0)\n",
            "Requirement already satisfied: futures>=3.1.1; python_version < \"3\" in /usr/local/lib/python2.7/dist-packages (from Tensorboard) (3.2.0)\n",
            "Requirement already satisfied: wheel; python_version < \"3\" in /usr/local/lib/python2.7/dist-packages (from Tensorboard) (0.32.2)\n",
            "Requirement already satisfied: grpcio>=1.6.3 in /usr/local/lib/python2.7/dist-packages (from Tensorboard) (1.15.0)\n",
            "Requirement already satisfied: protobuf>=3.4.0 in /usr/local/lib/python2.7/dist-packages (from Tensorboard) (3.6.1)\n",
            "Requirement already satisfied: six>=1.10.0 in /usr/local/lib/python2.7/dist-packages (from Tensorboard) (1.11.0)\n",
            "Requirement already satisfied: numpy>=1.12.0 in /usr/local/lib/python2.7/dist-packages (from Tensorboard) (1.14.6)\n",
            "Requirement already satisfied: werkzeug>=0.11.10 in /usr/local/lib/python2.7/dist-packages (from Tensorboard) (0.14.1)\n",
            "Requirement already satisfied: markdown>=2.6.8 in /usr/local/lib/python2.7/dist-packages (from Tensorboard) (3.0.1)\n",
            "Requirement already satisfied: enum34>=1.0.4 in /usr/local/lib/python2.7/dist-packages (from grpcio>=1.6.3->Tensorboard) (1.1.6)\n",
            "Requirement already satisfied: setuptools in /usr/local/lib/python2.7/dist-packages (from protobuf>=3.4.0->Tensorboard) (40.5.0)\n"
          ],
          "name": "stdout"
        }
      ]
    },
    {
      "cell_type": "markdown",
      "metadata": {
        "id": "OKVkkLaLdPGU"
      },
      "source": [
        "# Loading the Dataset"
      ]
    },
    {
      "cell_type": "markdown",
      "metadata": {
        "id": "JK0ZRJoxhrFe"
      },
      "source": [
        "<h3>Download train and test sets of  MNIST dataset</h3>"
      ]
    },
    {
      "cell_type": "code",
      "metadata": {
        "id": "Jv3nQR9L4WE2",
        "colab": {
          "base_uri": "https://localhost:8080/",
          "height": 69
        },
        "outputId": "64ab176e-00bd-44ce-cf44-66c69084dc23"
      },
      "source": [
        "# the data, split between train and test sets\n",
        "(x_train, y_train), (x_test, y_test) = mnist.load_data()"
      ],
      "execution_count": null,
      "outputs": [
        {
          "output_type": "stream",
          "text": [
            "Downloading data from https://s3.amazonaws.com/img-datasets/mnist.npz\n",
            "11493376/11490434 [==============================] - 2s 0us/step\n",
            "11501568/11490434 [==============================] - 2s 0us/step\n"
          ],
          "name": "stdout"
        }
      ]
    },
    {
      "cell_type": "markdown",
      "metadata": {
        "id": "PEcVz-OotHWM"
      },
      "source": [
        "<h4>Visualizing the dataset</h4>"
      ]
    },
    {
      "cell_type": "code",
      "metadata": {
        "id": "dqpGua7ZqUdV",
        "colab": {
          "base_uri": "https://localhost:8080/",
          "height": 486
        },
        "outputId": "efa99c33-0c2d-4ba6-9238-739a2a1f67dc"
      },
      "source": [
        "%matplotlib inline\n",
        "\n",
        "import matplotlib.pyplot as plt\n",
        "w=10\n",
        "h=10\n",
        "fig=plt.figure(figsize=(8, 8))\n",
        "columns = 10\n",
        "rows = 10\n",
        "for i in range(1, columns*rows +1):\n",
        "    img = x_test[i]\n",
        "    fig.add_subplot(rows, columns, i)\n",
        "    plt.imshow(img, cmap='gray')\n",
        "plt.show()"
      ],
      "execution_count": null,
      "outputs": [
        {
          "output_type": "display_data",
          "data": {
            "image/png": "[encoded data removed]",
            "text/plain": [
              "<matplotlib.figure.Figure at 0x7feab4f00510>"
            ]
          },
          "metadata": {
            "tags": []
          }
        }
      ]
    },
    {
      "cell_type": "markdown",
      "metadata": {
        "id": "0D29eowNhmU8"
      },
      "source": [
        "<h3>Reshape train and test sets into shapes compatible with keras models</h3>\n",
        "\n",
        "<h4>Keras expects data to be in the format (N_E.N_H,N_W,N_C)  N_E = Number of Examples, N_H = height, N_W = Width, N_C = Number of Channels.</h4>\n"
      ]
    },
    {
      "cell_type": "code",
      "metadata": {
        "id": "KYCYajiwdozQ"
      },
      "source": [
        "# input image dimensions\n",
        "img_rows, img_cols = 28, 28\n",
        "\n",
        "#Keras expects data to be in the format (N_E.N_H,N_W,N_C)\n",
        "#N_E = Number of Examples, N_H = height, N_W = Width, N_C = Number of Channels.\n",
        "x_train = x_train.reshape(x_train.shape[0], img_rows, img_cols, 1)\n",
        "x_test = x_test.reshape(x_test.shape[0], img_rows, img_cols, 1)\n",
        "input_shape = (img_rows, img_cols, 1)"
      ],
      "execution_count": null,
      "outputs": []
    },
    {
      "cell_type": "markdown",
      "metadata": {
        "id": "kMGQuoyNiqmL"
      },
      "source": [
        "<h3>Pre-processing the dataset</h3>\n",
        "<h4>Normalizing the input</h4>"
      ]
    },
    {
      "cell_type": "code",
      "metadata": {
        "id": "M1kXqqfV4d_b",
        "colab": {
          "base_uri": "https://localhost:8080/",
          "height": 69
        },
        "outputId": "8b29684f-7995-4d6e-cae8-07d61b89ce29"
      },
      "source": [
        "x_train = x_train.astype('float32')\n",
        "x_test = x_test.astype('float32')\n",
        "\n",
        "#Normalizing the input\n",
        "x_train /= 255.0\n",
        "x_test /= 255.0\n",
        "print('x_train shape:', x_train.shape)\n",
        "print(x_train.shape[0], 'train samples')\n",
        "print(x_test.shape[0], 'test samples')"
      ],
      "execution_count": null,
      "outputs": [
        {
          "output_type": "stream",
          "text": [
            "('x_train shape:', (60000, 28, 28, 1))\n",
            "(60000, 'train samples')\n",
            "(10000, 'test samples')\n"
          ],
          "name": "stdout"
        }
      ]
    },
    {
      "cell_type": "code",
      "metadata": {
        "id": "nlJ0ogZ4dG3G"
      },
      "source": [
        "batch_size = 128\n",
        "num_classes = 10\n",
        "epochs = 12"
      ],
      "execution_count": null,
      "outputs": []
    },
    {
      "cell_type": "code",
      "metadata": {
        "id": "qX8CdMUs5qvO",
        "colab": {
          "base_uri": "https://localhost:8080/",
          "height": 34
        },
        "outputId": "5a8d39cf-5ae4-46fe-f6e5-d91be1eb6f2d"
      },
      "source": [
        "print(y_train[0])"
      ],
      "execution_count": null,
      "outputs": [
        {
          "output_type": "stream",
          "text": [
            "5\n"
          ],
          "name": "stdout"
        }
      ]
    },
    {
      "cell_type": "markdown",
      "metadata": {
        "id": "N8TE7MoZi_w7"
      },
      "source": [
        "<h4>Convert Labels from digits to one hot vectors</h4>"
      ]
    },
    {
      "cell_type": "code",
      "metadata": {
        "id": "cqh-cVtT4ijU"
      },
      "source": [
        "# convert class vectors to binary class matrices\n",
        "y_train = keras.utils.to_categorical(y_train, num_classes)\n",
        "y_test = keras.utils.to_categorical(y_test, num_classes)"
      ],
      "execution_count": null,
      "outputs": []
    },
    {
      "cell_type": "code",
      "metadata": {
        "id": "yMfUrCYO5VeA",
        "colab": {
          "base_uri": "https://localhost:8080/",
          "height": 34
        },
        "outputId": "7ae248e2-c793-446b-ad4e-68e435f19918"
      },
      "source": [
        "print(y_train[0])"
      ],
      "execution_count": null,
      "outputs": [
        {
          "output_type": "stream",
          "text": [
            "[0. 0. 0. 0. 0. 1. 0. 0. 0. 0.]\n"
          ],
          "name": "stdout"
        }
      ]
    },
    {
      "cell_type": "markdown",
      "metadata": {
        "id": "QV4R9IbjjOVT"
      },
      "source": [
        "# Building the CNN \n",
        "\n",
        "<h4>Define the layers of model</h4>"
      ]
    },
    {
      "cell_type": "code",
      "metadata": {
        "id": "7sse4G5d4lpY"
      },
      "source": [
        "#Initialize the model\n",
        "model = Sequential()\n",
        "\n",
        "#Add a Convolutional Layer with 32 filters of size 3X3 and activation function as 'ReLU' \n",
        "model.add(Conv2D(32, kernel_size=(3, 3),\n",
        "                 activation='relu',\n",
        "                 input_shape=input_shape))\n",
        "\n",
        "#Add a Convolutional Layer with 64 filters of size 3X3 and activation function as 'ReLU' \n",
        "model.add(Conv2D(64, (3, 3), activation='relu'))\n",
        "\n",
        "#Add a MaxPooling Layer of size 2X2 \n",
        "model.add(MaxPooling2D(pool_size=(2, 2)))\n",
        "\n",
        "#Apply Dropout with 0.25 probability \n",
        "model.add(Dropout(0.25))\n",
        "\n",
        "#Flatten the layer\n",
        "model.add(Flatten())\n",
        "\n",
        "#Add Fully Connected Layer with 128 units and activation function as 'ReLU'\n",
        "model.add(Dense(128, activation='relu'))\n",
        "\n",
        "#Apply Dropout with 0.5 probability \n",
        "model.add(Dropout(0.5))\n",
        "\n",
        "#Add Fully Connected Layer with 10 units and activation function as 'softmax'\n",
        "model.add(Dense(num_classes, activation='softmax'))"
      ],
      "execution_count": null,
      "outputs": []
    },
    {
      "cell_type": "markdown",
      "metadata": {
        "id": "iDYmge-AlJTX"
      },
      "source": [
        "<h4>Setting Optimizer and Loss function for training</h4>"
      ]
    },
    {
      "cell_type": "code",
      "metadata": {
        "id": "W-y6cZaL4p6R"
      },
      "source": [
        "from keras.optimizers import Adam\n",
        "from keras.losses import categorical_crossentropy\n",
        "\n",
        "#To use adam optimizer for learning weights with learning rate = 0.001\n",
        "optimizer = Adam(lr=0.001)\n",
        "#Set the loss function and optimizer for the model training\n",
        "model.compile(loss=categorical_crossentropy,\n",
        "              optimizer=optimizer,\n",
        "              metrics=['accuracy'])"
      ],
      "execution_count": null,
      "outputs": []
    },
    {
      "cell_type": "markdown",
      "metadata": {
        "id": "wVHOojpJlvVa"
      },
      "source": [
        "# Training the CNN "
      ]
    },
    {
      "cell_type": "markdown",
      "metadata": {
        "id": "PF0yBjA0jkm-"
      },
      "source": [
        "<h4>Initializing the Tensorboard callback for visualization of training</h4>"
      ]
    },
    {
      "cell_type": "code",
      "metadata": {
        "id": "fCysYIM2I-6f"
      },
      "source": [
        "#Import tensorboard callback which will passed in model.fit function.\n",
        "from keras.callbacks import TensorBoard\n",
        "from time import time\n",
        "\n",
        "\n",
        "#Setting the directory to store the logs.\n",
        "tensorboard = TensorBoard(log_dir=\".logs/{}\".format(time()))\n"
      ],
      "execution_count": null,
      "outputs": []
    },
    {
      "cell_type": "markdown",
      "metadata": {
        "id": "Oe1YtBzrmCaL"
      },
      "source": [
        "<h4>Initializing Early stopping and Model chekpoint callbacks </h4>"
      ]
    },
    {
      "cell_type": "code",
      "metadata": {
        "id": "WJ3u9GaFl-Xl"
      },
      "source": [
        "#Adding Early stopping callback to the fit function is going to stop the training,\n",
        "#if the val_loss is not going to change even '0.001' for more than 10 continous epochs\n",
        "\n",
        "early_stopping = EarlyStopping(monitor='val_loss', min_delta=0.001, patience=10)\n",
        "\n",
        "#Adding Model Checkpoint callback to the fit function is going to save the weights whenever val_loss achieves a new low value. \n",
        "#Hence saving the best weights occurred during training\n",
        "\n",
        "model_checkpoint =  ModelCheckpoint('mnist_cnn_checkpoint_{epoch:02d}_loss{val_loss:.4f}.h5',\n",
        "                                                           monitor='val_loss',\n",
        "                                                           verbose=1,\n",
        "                                                           save_best_only=True,\n",
        "                                                           save_weights_only=True,\n",
        "                                                           mode='auto',\n",
        "                                                           period=1)"
      ],
      "execution_count": null,
      "outputs": []
    },
    {
      "cell_type": "markdown",
      "metadata": {
        "id": "wJIhBhbDmZ8U"
      },
      "source": [
        "<h4>Fit the model to the dataset</h4>"
      ]
    },
    {
      "cell_type": "code",
      "metadata": {
        "id": "QDBvTM2B4smP",
        "colab": {
          "base_uri": "https://localhost:8080/",
          "height": 885
        },
        "outputId": "ecf566e2-d95d-47cc-b66f-3ad1c2ceef8e"
      },
      "source": [
        "#Training on the dataset and adding the all the callbacks to the fit function.\n",
        "#Once the training starts, results start appearing on Tensorboard after 1 epoch\n",
        "model.fit(x_train, y_train,\n",
        "          batch_size=batch_size,\n",
        "          epochs=epochs,\n",
        "          verbose=1,\n",
        "          validation_data=(x_test, y_test),\n",
        "          callbacks=[tensorboard,early_stopping,model_checkpoint])"
      ],
      "execution_count": null,
      "outputs": [
        {
          "output_type": "stream",
          "text": [
            "Train on 60000 samples, validate on 10000 samples\n",
            "Epoch 1/12\n",
            "60000/60000 [==============================] - 11s 178us/step - loss: 0.2596 - acc: 0.9198 - val_loss: 0.0601 - val_acc: 0.9816\n",
            "\n",
            "Epoch 00001: val_loss improved from inf to 0.06007, saving model to mnist_cnn_checkpoint_01_loss0.0601.h5\n",
            "Epoch 2/12\n",
            "60000/60000 [==============================] - 9s 147us/step - loss: 0.0936 - acc: 0.9723 - val_loss: 0.0379 - val_acc: 0.9870\n",
            "\n",
            "Epoch 00002: val_loss improved from 0.06007 to 0.03787, saving model to mnist_cnn_checkpoint_02_loss0.0379.h5\n",
            "Epoch 3/12\n",
            "60000/60000 [==============================] - 9s 149us/step - loss: 0.0690 - acc: 0.9799 - val_loss: 0.0383 - val_acc: 0.9866\n",
            "\n",
            "Epoch 00003: val_loss did not improve from 0.03787\n",
            "Epoch 4/12\n",
            "60000/60000 [==============================] - 9s 149us/step - loss: 0.0575 - acc: 0.9826 - val_loss: 0.0307 - val_acc: 0.9887\n",
            "\n",
            "Epoch 00004: val_loss improved from 0.03787 to 0.03065, saving model to mnist_cnn_checkpoint_04_loss0.0307.h5\n",
            "Epoch 5/12\n",
            "60000/60000 [==============================] - 9s 147us/step - loss: 0.0482 - acc: 0.9851 - val_loss: 0.0325 - val_acc: 0.9885\n",
            "\n",
            "Epoch 00005: val_loss did not improve from 0.03065\n",
            "Epoch 6/12\n",
            "60000/60000 [==============================] - 9s 147us/step - loss: 0.0420 - acc: 0.9869 - val_loss: 0.0311 - val_acc: 0.9895\n",
            "\n",
            "Epoch 00006: val_loss did not improve from 0.03065\n",
            "Epoch 7/12\n",
            "60000/60000 [==============================] - 9s 147us/step - loss: 0.0360 - acc: 0.9886 - val_loss: 0.0308 - val_acc: 0.9903\n",
            "\n",
            "Epoch 00007: val_loss did not improve from 0.03065\n",
            "Epoch 8/12\n",
            "60000/60000 [==============================] - 9s 147us/step - loss: 0.0323 - acc: 0.9898 - val_loss: 0.0321 - val_acc: 0.9899\n",
            "\n",
            "Epoch 00008: val_loss did not improve from 0.03065\n",
            "Epoch 9/12\n",
            "60000/60000 [==============================] - 9s 147us/step - loss: 0.0290 - acc: 0.9906 - val_loss: 0.0319 - val_acc: 0.9901\n",
            "\n",
            "Epoch 00009: val_loss did not improve from 0.03065\n",
            "Epoch 10/12\n",
            "60000/60000 [==============================] - 9s 147us/step - loss: 0.0265 - acc: 0.9910 - val_loss: 0.0297 - val_acc: 0.9915\n",
            "\n",
            "Epoch 00010: val_loss improved from 0.03065 to 0.02965, saving model to mnist_cnn_checkpoint_10_loss0.0297.h5\n",
            "Epoch 11/12\n",
            "60000/60000 [==============================] - 9s 147us/step - loss: 0.0257 - acc: 0.9919 - val_loss: 0.0259 - val_acc: 0.9924\n",
            "\n",
            "Epoch 00011: val_loss improved from 0.02965 to 0.02587, saving model to mnist_cnn_checkpoint_11_loss0.0259.h5\n",
            "Epoch 12/12\n",
            "60000/60000 [==============================] - 9s 148us/step - loss: 0.0228 - acc: 0.9925 - val_loss: 0.0292 - val_acc: 0.9913\n",
            "\n",
            "Epoch 00012: val_loss did not improve from 0.02587\n"
          ],
          "name": "stdout"
        },
        {
          "output_type": "execute_result",
          "data": {
            "text/plain": [
              "<keras.callbacks.History at 0x7fe4428bea50>"
            ]
          },
          "metadata": {
            "tags": []
          },
          "execution_count": 13
        }
      ]
    },
    {
      "cell_type": "markdown",
      "metadata": {
        "id": "U3WWyAm_me96"
      },
      "source": [
        "# Evaluating the CNN"
      ]
    },
    {
      "cell_type": "markdown",
      "metadata": {
        "id": "_DnRZGxSmi5C"
      },
      "source": [
        "<h4>Evaluate trained model on the test set</h4>"
      ]
    },
    {
      "cell_type": "code",
      "metadata": {
        "id": "q4oZhZm34v_R",
        "colab": {
          "base_uri": "https://localhost:8080/",
          "height": 69
        },
        "outputId": "00ef3bf9-82c5-4d64-e199-1353e89afddc"
      },
      "source": [
        "#Testing the model on test set\n",
        "score = model.evaluate(x_test, y_test)\n",
        "print('Test loss:', score[0])\n",
        "print('Test accuracy:', score[1])"
      ],
      "execution_count": null,
      "outputs": [
        {
          "output_type": "stream",
          "text": [
            "10000/10000 [==============================] - 1s 114us/step\n",
            "('Test loss:', 0.029229555773590574)\n",
            "('Test accuracy:', 0.9913)\n"
          ],
          "name": "stdout"
        }
      ]
    },
    {
      "cell_type": "markdown",
      "metadata": {
        "id": "tWuDdzf0rgf-"
      },
      "source": [
        "<h4>Visualizing some predictions</h4>"
      ]
    },
    {
      "cell_type": "code",
      "metadata": {
        "id": "fiT52J2Gqk2D",
        "colab": {
          "base_uri": "https://localhost:8080/",
          "height": 814
        },
        "outputId": "35b77fd1-9701-435e-ca3f-356e8b25d544"
      },
      "source": [
        "import numpy as np\n",
        "\n",
        "plt.figure(figsize=(2,2))\n",
        "plt.imshow(x_test[3].reshape(28,28),cmap=\"gray\")\n",
        "plt.show()\n",
        "print(np.argmax(model.predict(x_test[3].reshape(1,28,28,1))))\n",
        "\n",
        "\n",
        "plt.figure(figsize=(2,2))\n",
        "plt.imshow(x_test[2].reshape(28,28),cmap=\"gray\")\n",
        "plt.show()\n",
        "print(np.argmax(model.predict(x_test[2].reshape(1,28,28,1))))\n",
        "\n",
        "\n",
        "plt.figure(figsize=(2,2))\n",
        "plt.imshow(x_test[33].reshape(28,28),cmap=\"gray\")\n",
        "plt.show()\n",
        "print(np.argmax(model.predict(x_test[33].reshape(1,28,28,1))))\n",
        "\n",
        "\n",
        "plt.figure(figsize=(2,2))\n",
        "plt.imshow(x_test[59].reshape(28,28),cmap=\"gray\")\n",
        "plt.show()\n",
        "print(np.argmax(model.predict(x_test[59].reshape(1,28,28,1))))\n",
        "\n",
        "\n",
        "plt.figure(figsize=(2,2))\n",
        "plt.imshow(x_test[36].reshape(28,28),cmap=\"gray\")\n",
        "plt.show()\n",
        "print(np.argmax(model.predict(x_test[36].reshape(1,28,28,1))))"
      ],
      "execution_count": null,
      "outputs": [
        {
          "output_type": "display_data",
          "data": {
            "image/png": "[encoded data removed]",
            "text/plain": [
              "<matplotlib.figure.Figure at 0x7fe433181d50>"
            ]
          },
          "metadata": {
            "tags": []
          }
        },
        {
          "output_type": "stream",
          "text": [
            "0\n"
          ],
          "name": "stdout"
        },
        {
          "output_type": "display_data",
          "data": {
            "image/png": "[encoded data removed]",
            "text/plain": [
              "<matplotlib.figure.Figure at 0x7fe433c3e810>"
            ]
          },
          "metadata": {
            "tags": []
          }
        },
        {
          "output_type": "stream",
          "text": [
            "1\n"
          ],
          "name": "stdout"
        },
        {
          "output_type": "display_data",
          "data": {
            "image/png": "[encoded data removed]",
            "text/plain": [
              "<matplotlib.figure.Figure at 0x7fe43313a150>"
            ]
          },
          "metadata": {
            "tags": []
          }
        },
        {
          "output_type": "stream",
          "text": [
            "4\n"
          ],
          "name": "stdout"
        },
        {
          "output_type": "display_data",
          "data": {
            "image/png": "[encoded data removed]",
            "text/plain": [
              "<matplotlib.figure.Figure at 0x7fe433219290>"
            ]
          },
          "metadata": {
            "tags": []
          }
        },
        {
          "output_type": "stream",
          "text": [
            "5\n"
          ],
          "name": "stdout"
        },
        {
          "output_type": "display_data",
          "data": {
            "image/png": "[encoded data removed]",
            "text/plain": [
              "<matplotlib.figure.Figure at 0x7fe4331e5a10>"
            ]
          },
          "metadata": {
            "tags": []
          }
        },
        {
          "output_type": "stream",
          "text": [
            "7\n"
          ],
          "name": "stdout"
        }
      ]
    },
    {
      "cell_type": "markdown",
      "metadata": {
        "id": "Fvl0nK6pmsmt"
      },
      "source": [
        "# Saving the CNN"
      ]
    },
    {
      "cell_type": "markdown",
      "metadata": {
        "id": "xM4Ram-pmyPd"
      },
      "source": [
        "<h4>Save the trained weights and model in h5 files</h4>"
      ]
    },
    {
      "cell_type": "code",
      "metadata": {
        "id": "fhTA0qnm85kH"
      },
      "source": [
        "#Set the path where you want to store the model and weights. \n",
        "model.save('./data/cnn_mnist.h5')\n",
        "model.save_weights('./data/cnn_mnist_weights.h5')"
      ],
      "execution_count": null,
      "outputs": []
    },
    {
      "cell_type": "code",
      "metadata": {
        "id": "aGpE3xXGxnJP"
      },
      "source": [
        ""
      ],
      "execution_count": null,
      "outputs": []
    }
  ]
}